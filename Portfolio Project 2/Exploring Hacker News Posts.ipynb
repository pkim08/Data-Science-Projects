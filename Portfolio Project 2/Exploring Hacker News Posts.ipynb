{
 "cells": [
  {
   "cell_type": "markdown",
   "id": "abe373e8",
   "metadata": {},
   "source": [
    "# Exploring Hacker News Posts\n",
    "\n",
    "In this project, we'll compare two different types of posts from Hacker News, a popular site where technology related stories (or 'posts') are voted and commented upon. The two types of posts we'll explore begin with either `Ask HN` or `Show HN`.\n",
    "\n",
    "Users submit `Ask HN` posts to ask the Hacker News community a specific question, such as \"What is the best online course you've ever taken?\" Likewise, users submit `Show HN` posts to show the Hacker News community a project, product, or just generally something interesting.\n",
    "\n",
    "We'll specifically compare these two types of posts to determine the following:\n",
    "\n",
    "-    Do `Ask HN` or `Show HN` receive more comments on average?\n",
    "-    Do posts created at a certain time receive more comments on average?\n",
    "\n",
    "It should be noted that the data set we're working with was reduced from almost 300,000 rows to approximately 20,000 rows by removing all submissions that did not receive any comments, and then randomly sampling from the remaining submissions.\n",
    "\n",
    "Throughout this process, I am trying to tackle real-world situations and bringing together skills such as:\n",
    "- How to work with strings\n",
    "- Object-oriented programming\n",
    "- Dates and times\n",
    "\n",
    "This project does not include packages such as pandas, numpy, matplotlib, and scikit-learn. I am strictly working with Python and it's own built-in packages."
   ]
  },
  {
   "cell_type": "code",
   "execution_count": 1,
   "id": "0a2e4694",
   "metadata": {},
   "outputs": [],
   "source": [
    "# Reading in the Hacker News data\n",
    "import csv\n",
    "\n",
    "f = open('hacker_news.csv')\n",
    "f_list = list(csv.reader(f))\n",
    "headers = f_list[:1]    # Extracting the header row\n",
    "hn = f_list[1:]         # List of lists w/o header row"
   ]
  },
  {
   "cell_type": "code",
   "execution_count": 2,
   "id": "e77a9595",
   "metadata": {},
   "outputs": [
    {
     "name": "stdout",
     "output_type": "stream",
     "text": [
      "[['id', 'title', 'url', 'num_points', 'num_comments', 'author', 'created_at']]\n"
     ]
    }
   ],
   "source": [
    "print(headers)"
   ]
  },
  {
   "cell_type": "code",
   "execution_count": 36,
   "id": "d79060d0",
   "metadata": {
    "scrolled": true
   },
   "outputs": [
    {
     "name": "stdout",
     "output_type": "stream",
     "text": [
      "[['12224879', 'Interactive Dynamic Video', 'http://www.interactivedynamicvideo.com/', '386', '52', 'ne0phyte', '8/4/2016 11:52'], ['10975351', 'How to Use Open Source and Shut the Fuck Up at the Same Time', 'http://hueniverse.com/2016/01/26/how-to-use-open-source-and-shut-the-fuck-up-at-the-same-time/', '39', '10', 'josep2', '1/26/2016 19:30'], ['11964716', \"Florida DJs May Face Felony for April Fools' Water Joke\", 'http://www.thewire.com/entertainment/2013/04/florida-djs-april-fools-water-joke/63798/', '2', '1', 'vezycash', '6/23/2016 22:20'], ['11919867', 'Technology ventures: From Idea to Enterprise', 'https://www.amazon.com/Technology-Ventures-Enterprise-Thomas-Byers/dp/0073523429', '3', '1', 'hswarna', '6/17/2016 0:01'], ['10301696', 'Note by Note: The Making of Steinway L1037 (2007)', 'http://www.nytimes.com/2007/11/07/movies/07stein.html?_r=0', '8', '2', 'walterbell', '9/30/2015 4:12']]\n"
     ]
    }
   ],
   "source": [
    "print(hn[:5])"
   ]
  },
  {
   "cell_type": "markdown",
   "id": "f5306bb0",
   "metadata": {},
   "source": [
    "We can see above that the data set contains these columns:\n",
    "- `id`: the unique identifier from Hacker News for the post\n",
    "- `title`: title of the post (self explanatory)\n",
    "- `url`: the URL of the item being linked to\n",
    "- `num_points`: the number of upvotes the post received\n",
    "- `num_comments`: the number of comments the post received\n",
    "- `author`: the name of the account that made the post\n",
    "- `created_at`: the date and time the post was made (the time zone is Eastern Time in the US)\n"
   ]
  },
  {
   "cell_type": "markdown",
   "id": "f53ea796",
   "metadata": {},
   "source": [
    "## Extracting Ask HN and Show HN Posts"
   ]
  },
  {
   "cell_type": "markdown",
   "id": "5b34d36c",
   "metadata": {},
   "source": [
    "Now that we've removed the headers from `hn`, we're ready to filter our data. Since we're only concerned with post titles beginning with `Ask HN` or `Show HN`, we'll create new lists of lists containing just the data for those titles."
   ]
  },
  {
   "cell_type": "code",
   "execution_count": 4,
   "id": "3ff4502a",
   "metadata": {},
   "outputs": [],
   "source": [
    "ask_posts, show_posts, other_posts = [], [], []\n",
    "\n",
    "for row in hn:\n",
    "    title = row[1]\n",
    "    if title.lower().startswith('ask hn'):\n",
    "        ask_posts.append(row)\n",
    "    elif title.lower().startswith('show hn'):\n",
    "        show_posts.append(row)\n",
    "    else:\n",
    "        other_posts.append(row)"
   ]
  },
  {
   "cell_type": "code",
   "execution_count": 5,
   "id": "74632bde",
   "metadata": {},
   "outputs": [
    {
     "name": "stdout",
     "output_type": "stream",
     "text": [
      "1744 1162 17194\n"
     ]
    }
   ],
   "source": [
    "# Checking the number of posts in `ask_posts`, `show_posts`, and `other_posts`\n",
    "print(len(ask_posts), len(show_posts), len(other_posts))"
   ]
  },
  {
   "cell_type": "code",
   "execution_count": 6,
   "id": "0ce48c48",
   "metadata": {},
   "outputs": [
    {
     "name": "stdout",
     "output_type": "stream",
     "text": [
      "[['12296411', 'Ask HN: How to improve my personal website?', '', '2', '6', 'ahmedbaracat', '8/16/2016 9:55'], ['10610020', 'Ask HN: Am I the only one outraged by Twitter shutting down share counts?', '', '28', '29', 'tkfx', '11/22/2015 13:43'], ['11610310', 'Ask HN: Aby recent changes to CSS that broke mobile?', '', '1', '1', 'polskibus', '5/2/2016 10:14'], ['12210105', 'Ask HN: Looking for Employee #3 How do I do it?', '', '1', '3', 'sph130', '8/2/2016 14:20'], ['10394168', 'Ask HN: Someone offered to buy my browser extension from me. What now?', '', '28', '17', 'roykolak', '10/15/2015 16:38']]\n"
     ]
    }
   ],
   "source": [
    "print(ask_posts[:5])"
   ]
  },
  {
   "cell_type": "code",
   "execution_count": 37,
   "id": "9f89bc57",
   "metadata": {},
   "outputs": [
    {
     "name": "stdout",
     "output_type": "stream",
     "text": [
      "[['10627194', 'Show HN: Wio Link  ESP8266 Based Web of Things Hardware Development Platform', 'https://iot.seeed.cc', '26', '22', 'kfihihc', '11/25/2015 14:03'], ['10646440', 'Show HN: Something pointless I made', 'http://dn.ht/picklecat/', '747', '102', 'dhotson', '11/29/2015 22:46'], ['11590768', 'Show HN: Shanhu.io, a programming playground powered by e8vm', 'https://shanhu.io', '1', '1', 'h8liu', '4/28/2016 18:05'], ['12178806', 'Show HN: Webscope  Easy way for web developers to communicate with Clients', 'http://webscopeapp.com', '3', '3', 'fastbrick', '7/28/2016 7:11'], ['10872799', 'Show HN: GeoScreenshot  Easily test Geo-IP based web pages', 'https://www.geoscreenshot.com/', '1', '9', 'kpsychwave', '1/9/2016 20:45']]\n"
     ]
    }
   ],
   "source": [
    "print(show_posts[:5])"
   ]
  },
  {
   "cell_type": "markdown",
   "id": "eb77ed39",
   "metadata": {},
   "source": [
    "## Calculating the Average Number of Comments for Ask HN and Show HN Posts"
   ]
  },
  {
   "cell_type": "markdown",
   "id": "8a6d913d",
   "metadata": {},
   "source": [
    "Now that we've separated ask posts and show posts into different lists, we'll calculate the average number of comments each type of post receives."
   ]
  },
  {
   "cell_type": "code",
   "execution_count": 8,
   "id": "272b12f8",
   "metadata": {},
   "outputs": [],
   "source": [
    "total_ask_comments = 0\n",
    "\n",
    "for post in ask_posts:\n",
    "    comments = int(post[4])\n",
    "    total_ask_comments += comments\n",
    "\n",
    "avg_ask_comments = total_ask_comments / len(ask_posts)"
   ]
  },
  {
   "cell_type": "code",
   "execution_count": 9,
   "id": "2f723e6f",
   "metadata": {},
   "outputs": [
    {
     "name": "stdout",
     "output_type": "stream",
     "text": [
      "14.038417431192661\n"
     ]
    }
   ],
   "source": [
    "print(avg_ask_comments)"
   ]
  },
  {
   "cell_type": "code",
   "execution_count": 10,
   "id": "22f94af9",
   "metadata": {},
   "outputs": [],
   "source": [
    "total_show_comments = 0\n",
    "\n",
    "for post in show_posts:\n",
    "    comments = int(post[4])\n",
    "    total_show_comments += comments\n",
    "\n",
    "avg_show_comments = total_show_comments / len(show_posts)"
   ]
  },
  {
   "cell_type": "code",
   "execution_count": 11,
   "id": "90426b6f",
   "metadata": {},
   "outputs": [
    {
     "name": "stdout",
     "output_type": "stream",
     "text": [
      "10.31669535283993\n"
     ]
    }
   ],
   "source": [
    "print(avg_show_comments)"
   ]
  },
  {
   "cell_type": "markdown",
   "id": "c5dc797e",
   "metadata": {},
   "source": [
    "On average, ask posts in our sample receive appoximately 14 comments, whereas show posts receive approximately 10. Since ask posts are more likely to receive comments, we'll focus remaining analysis just on these posts."
   ]
  },
  {
   "cell_type": "markdown",
   "id": "91fda4ae",
   "metadata": {},
   "source": [
    "## Finding the Amount of Ask Posts and Comments by Hour Created"
   ]
  },
  {
   "cell_type": "markdown",
   "id": "ed1e7cc6",
   "metadata": {},
   "source": [
    "Next, we'll determine if we can maximize the amount of comments an ask post receives by creating it at a certain time. First, we'll find the amount of ask posts created during each hour of day, along with the number of comments those posts received. Then, we'll calculate the average amount of comments ask posts created at each hour of the day receive."
   ]
  },
  {
   "cell_type": "code",
   "execution_count": 12,
   "id": "c1030d9d",
   "metadata": {},
   "outputs": [],
   "source": [
    "import datetime as dt"
   ]
  },
  {
   "cell_type": "code",
   "execution_count": 14,
   "id": "f54d6863",
   "metadata": {},
   "outputs": [],
   "source": [
    "result_list = []\n",
    "for post in ask_posts:\n",
    "    time_created = post[6]\n",
    "    comments = int(post[4])\n",
    "    time_and_comments = [time_created, comments]\n",
    "    result_list.append(time_and_comments)"
   ]
  },
  {
   "cell_type": "code",
   "execution_count": 15,
   "id": "d6b97519",
   "metadata": {},
   "outputs": [
    {
     "name": "stdout",
     "output_type": "stream",
     "text": [
      "[['8/16/2016 9:55', 6], ['11/22/2015 13:43', 29], ['5/2/2016 10:14', 1], ['8/2/2016 14:20', 3], ['10/15/2015 16:38', 17]]\n"
     ]
    }
   ],
   "source": [
    "print(result_list[:5])"
   ]
  },
  {
   "cell_type": "code",
   "execution_count": 21,
   "id": "07307f08",
   "metadata": {},
   "outputs": [],
   "source": [
    "counts_by_hour, comments_by_hour = {}, {}\n",
    "for row in result_list:\n",
    "    hour_str = row[0]\n",
    "    hour_dt = dt.datetime.strptime(hour_str, \"%m/%d/%Y %H:%M\")\n",
    "    hour = hour_dt.strftime(\"%H\")\n",
    "    if hour not in counts_by_hour:\n",
    "        counts_by_hour[hour] = 1\n",
    "        comments_by_hour[hour] = int(row[1])\n",
    "    else:\n",
    "        counts_by_hour[hour] += 1\n",
    "        comments_by_hour[hour] += int(row[1])\n",
    "    "
   ]
  },
  {
   "cell_type": "code",
   "execution_count": 22,
   "id": "6d156d20",
   "metadata": {},
   "outputs": [
    {
     "name": "stdout",
     "output_type": "stream",
     "text": [
      "{'09': 45, '13': 85, '10': 59, '14': 107, '16': 108, '23': 68, '12': 73, '17': 100, '15': 116, '21': 109, '20': 80, '02': 58, '18': 109, '03': 54, '05': 46, '19': 110, '01': 60, '22': 71, '08': 48, '04': 47, '00': 55, '06': 44, '07': 34, '11': 58}\n"
     ]
    }
   ],
   "source": [
    "print(counts_by_hour)"
   ]
  },
  {
   "cell_type": "code",
   "execution_count": 38,
   "id": "2af6cce4",
   "metadata": {},
   "outputs": [
    {
     "name": "stdout",
     "output_type": "stream",
     "text": [
      "{'09': 251, '13': 1253, '10': 793, '14': 1416, '16': 1814, '23': 543, '12': 687, '17': 1146, '15': 4477, '21': 1745, '20': 1722, '02': 1381, '18': 1439, '03': 421, '05': 464, '19': 1188, '01': 683, '22': 479, '08': 492, '04': 337, '00': 447, '06': 397, '07': 267, '11': 641}\n"
     ]
    }
   ],
   "source": [
    "print(comments_by_hour)"
   ]
  },
  {
   "cell_type": "markdown",
   "id": "f3323ab3",
   "metadata": {},
   "source": [
    "## Calculating the Average Number of Comments for Ask HN Posts by Hour"
   ]
  },
  {
   "cell_type": "code",
   "execution_count": 26,
   "id": "866ed5d4",
   "metadata": {},
   "outputs": [],
   "source": [
    "avg_by_hour = []\n",
    "\n",
    "for post in counts_by_hour:\n",
    "    avg_by_hour.append([post, comments_by_hour[post]/counts_by_hour[post]])\n",
    "    "
   ]
  },
  {
   "cell_type": "code",
   "execution_count": 40,
   "id": "8602fb87",
   "metadata": {},
   "outputs": [
    {
     "name": "stdout",
     "output_type": "stream",
     "text": [
      "[['09', 5.5777777777777775], ['13', 14.741176470588234], ['10', 13.440677966101696], ['14', 13.233644859813085], ['16', 16.796296296296298], ['23', 7.985294117647059], ['12', 9.41095890410959], ['17', 11.46], ['15', 38.5948275862069], ['21', 16.009174311926607], ['20', 21.525], ['02', 23.810344827586206], ['18', 13.20183486238532], ['03', 7.796296296296297], ['05', 10.08695652173913], ['19', 10.8], ['01', 11.383333333333333], ['22', 6.746478873239437], ['08', 10.25], ['04', 7.170212765957447], ['00', 8.127272727272727], ['06', 9.022727272727273], ['07', 7.852941176470588], ['11', 11.051724137931034]]\n"
     ]
    }
   ],
   "source": [
    "print(avg_by_hour)"
   ]
  },
  {
   "cell_type": "markdown",
   "id": "401a48f4",
   "metadata": {},
   "source": [
    "## Sorting and Printing Values from a List of Lists"
   ]
  },
  {
   "cell_type": "code",
   "execution_count": 28,
   "id": "c0e69547",
   "metadata": {},
   "outputs": [],
   "source": [
    "swap_avg_by_hour = []\n",
    "for row in avg_by_hour:\n",
    "    swap_avg_by_hour.append([row[1], row[0]])"
   ]
  },
  {
   "cell_type": "code",
   "execution_count": 39,
   "id": "23a711b9",
   "metadata": {},
   "outputs": [
    {
     "name": "stdout",
     "output_type": "stream",
     "text": [
      "[[5.5777777777777775, '09'], [14.741176470588234, '13'], [13.440677966101696, '10'], [13.233644859813085, '14'], [16.796296296296298, '16'], [7.985294117647059, '23'], [9.41095890410959, '12'], [11.46, '17'], [38.5948275862069, '15'], [16.009174311926607, '21'], [21.525, '20'], [23.810344827586206, '02'], [13.20183486238532, '18'], [7.796296296296297, '03'], [10.08695652173913, '05'], [10.8, '19'], [11.383333333333333, '01'], [6.746478873239437, '22'], [10.25, '08'], [7.170212765957447, '04'], [8.127272727272727, '00'], [9.022727272727273, '06'], [7.852941176470588, '07'], [11.051724137931034, '11']]\n"
     ]
    }
   ],
   "source": [
    "print(swap_avg_by_hour)"
   ]
  },
  {
   "cell_type": "code",
   "execution_count": 32,
   "id": "1d9b4e18",
   "metadata": {},
   "outputs": [],
   "source": [
    "sorted_swap = sorted(swap_avg_by_hour, reverse=True)"
   ]
  },
  {
   "cell_type": "code",
   "execution_count": 33,
   "id": "519c70a3",
   "metadata": {},
   "outputs": [
    {
     "name": "stdout",
     "output_type": "stream",
     "text": [
      "Top 5 Hours for Ask Posts Comments\n"
     ]
    }
   ],
   "source": [
    "print(\"Top 5 Hours for Ask Posts Comments\")"
   ]
  },
  {
   "cell_type": "code",
   "execution_count": 35,
   "id": "c8823e0e",
   "metadata": {},
   "outputs": [
    {
     "name": "stdout",
     "output_type": "stream",
     "text": [
      "15:00: 38.59 average comments per post\n",
      "02:00: 23.81 average comments per post\n",
      "20:00: 21.52 average comments per post\n",
      "16:00: 16.80 average comments per post\n",
      "21:00: 16.01 average comments per post\n"
     ]
    }
   ],
   "source": [
    "for row in sorted_swap[:5]:\n",
    "    print(\"{}:00: {:.2f} average comments per post\".format(row[1], row[0]))"
   ]
  },
  {
   "cell_type": "markdown",
   "id": "da0ebe44",
   "metadata": {},
   "source": [
    "The hour that receives the mosts comments per post on average, is 15:00, with an average 38.95 comments per post. There's about a 60% increase in the number of comments between the hours with the highest and second highest average number of comments.\n",
    "\n",
    "According to the [documentation](https://www.kaggle.com/datasets/hacker-news/hacker-news-posts), the timezone used is the Eastern Time in the US. So, we could also write 15:00 as 3:00 pm est."
   ]
  },
  {
   "cell_type": "markdown",
   "id": "0a4c34ce",
   "metadata": {},
   "source": [
    "## Conclusion"
   ]
  },
  {
   "cell_type": "markdown",
   "id": "2dbd6b48",
   "metadata": {},
   "source": [
    "In this project, we analyzed ask posts and show posts to determine which type of post and time receive the most comments on average. Based on our analysis, to maximize the amount of comments a post receives, it's recommended the post be categorized as ask post and created between 15:00 and 16:00 (3:00 pm est - 4:00 pm est).\n",
    "\n",
    "However, it should be noted that the data set we analyzed excluded posts without any comments. Given that, it's more accurate to say that of the posts that received comments, ask posts received more comments on average and ask posts created between 15:00 and 16:00 (3:00 pm est - 4:00 pm est) received the most comments on average."
   ]
  }
 ],
 "metadata": {
  "kernelspec": {
   "display_name": "Python 3 (ipykernel)",
   "language": "python",
   "name": "python3"
  },
  "language_info": {
   "codemirror_mode": {
    "name": "ipython",
    "version": 3
   },
   "file_extension": ".py",
   "mimetype": "text/x-python",
   "name": "python",
   "nbconvert_exporter": "python",
   "pygments_lexer": "ipython3",
   "version": "3.11.5"
  }
 },
 "nbformat": 4,
 "nbformat_minor": 5
}
