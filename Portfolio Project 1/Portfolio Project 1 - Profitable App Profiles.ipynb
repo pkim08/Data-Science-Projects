{
 "cells": [
  {
   "cell_type": "markdown",
   "id": "ee1e833d",
   "metadata": {},
   "source": [
    "# Profitable App Profiles for the App  Store and Google Play Markets"
   ]
  },
  {
   "cell_type": "markdown",
   "id": "976b4fec",
   "metadata": {},
   "source": [
    "For this project, we'll pretend we're working as a data analyst for a company that builds Android and iOS mobile apps. We make our apps available on Google Play and in the App Store."
   ]
  },
  {
   "cell_type": "markdown",
   "id": "db590d00",
   "metadata": {},
   "source": [
    "We only build apps that are free to download and install, and our main source of revenue consists of in-app ads. This means that the number of users of our apps determines our revenue for any given app — the more users who see and engage with the ads, the better. Our goal for this project is to analyze data to help our developers understand what type of apps are likely to attract more users."
   ]
  },
  {
   "cell_type": "markdown",
   "id": "f92d7979",
   "metadata": {},
   "source": [
    "Using data for 4 million+ apps on the App Store and the Google Play Store would require a significant amount of time and money. Luckily for us, there is already existing and relevant data online. The links to the datasets are provided below during the exploration of data.\n",
    "\n",
    "Keep in mind, this project will not be using pandas or numpy or any other packages of the sort. The emphasis here is to use workarounds in Python to fully appreciate the libraries in future projects!"
   ]
  },
  {
   "cell_type": "code",
   "execution_count": 1,
   "id": "e70a7b19",
   "metadata": {},
   "outputs": [],
   "source": [
    "from csv import reader\n",
    "\n",
    "# Opening the datasets and saving both as lists of lists\n",
    "\n",
    "# Android Dataset\n",
    "opened_google_file = open('googleplaystore.csv')\n",
    "read_google_file = reader(opened_google_file)\n",
    "google_play = list(read_google_file)\n",
    "android_header = google_play[0]\n",
    "android = google_play[1:]\n",
    "\n",
    "# Apple Dataset\n",
    "opened_apple_file = open('Applestore.csv')\n",
    "read_apple_file = reader(opened_apple_file)\n",
    "apple_store = list(read_apple_file)\n",
    "ios_header = apple_store[0]\n",
    "ios = apple_store[1:]"
   ]
  },
  {
   "cell_type": "code",
   "execution_count": 2,
   "id": "cd04c66e",
   "metadata": {},
   "outputs": [],
   "source": [
    "# Helper function to print the data in readable format\n",
    "def explore_data(dataset, start, end, rows_and_columns=False):\n",
    "    dataset_slice = dataset[start:end]    \n",
    "    for row in dataset_slice:\n",
    "        print(row)\n",
    "        print('\\n') # adds a new (empty) line after each row\n",
    "\n",
    "    if rows_and_columns:\n",
    "        print('Number of rows:', len(dataset))\n",
    "        print('Number of columns:', len(dataset[0]))"
   ]
  },
  {
   "cell_type": "markdown",
   "id": "002cb9dd",
   "metadata": {},
   "source": [
    "## Exploring Data"
   ]
  },
  {
   "cell_type": "markdown",
   "id": "4f30c269",
   "metadata": {},
   "source": [
    "### Apple iOS App Store Dataset"
   ]
  },
  {
   "cell_type": "code",
   "execution_count": 3,
   "id": "4ae5adba",
   "metadata": {},
   "outputs": [
    {
     "name": "stdout",
     "output_type": "stream",
     "text": [
      "['284882215', 'Facebook', '389879808', 'USD', '0.0', '2974676', '212', '3.5', '3.5', '95.0', '4+', 'Social Networking', '37', '1', '29', '1']\n",
      "\n",
      "\n",
      "['389801252', 'Instagram', '113954816', 'USD', '0.0', '2161558', '1289', '4.5', '4.0', '10.23', '12+', 'Photo & Video', '37', '0', '29', '1']\n",
      "\n",
      "\n",
      "['529479190', 'Clash of Clans', '116476928', 'USD', '0.0', '2130805', '579', '4.5', '4.5', '9.24.12', '9+', 'Games', '38', '5', '18', '1']\n",
      "\n",
      "\n",
      "['420009108', 'Temple Run', '65921024', 'USD', '0.0', '1724546', '3842', '4.5', '4.0', '1.6.2', '9+', 'Games', '40', '5', '1', '1']\n",
      "\n",
      "\n",
      "['284035177', 'Pandora - Music & Radio', '130242560', 'USD', '0.0', '1126879', '3594', '4.0', '4.5', '8.4.1', '12+', 'Music', '37', '4', '1', '1']\n",
      "\n",
      "\n",
      "Number of rows: 7197\n",
      "Number of columns: 16\n",
      "\n",
      "\n",
      "['id', 'track_name', 'size_bytes', 'currency', 'price', 'rating_count_tot', 'rating_count_ver', 'user_rating', 'user_rating_ver', 'ver', 'cont_rating', 'prime_genre', 'sup_devices.num', 'ipadSc_urls.num', 'lang.num', 'vpp_lic']\n"
     ]
    }
   ],
   "source": [
    "# Exploring the Apple Store apps dataset\n",
    "explore_data(ios, 0, 5, True)\n",
    "print('\\n')\n",
    "print(ios_header)"
   ]
  },
  {
   "cell_type": "markdown",
   "id": "db522a11",
   "metadata": {},
   "source": [
    "Here is the link to the [Apple iOS app store dataset](https://www.kaggle.com/datasets/ramamet4/app-store-apple-data-set-10k-apps) for documentation to better understand the columns."
   ]
  },
  {
   "cell_type": "markdown",
   "id": "f9955602",
   "metadata": {},
   "source": [
    "### Google Play Store Dataset"
   ]
  },
  {
   "cell_type": "code",
   "execution_count": 4,
   "id": "d6ae009f",
   "metadata": {},
   "outputs": [
    {
     "name": "stdout",
     "output_type": "stream",
     "text": [
      "['Photo Editor & Candy Camera & Grid & ScrapBook', 'ART_AND_DESIGN', '4.1', '159', '19M', '10,000+', 'Free', '0', 'Everyone', 'Art & Design', 'January 7, 2018', '1.0.0', '4.0.3 and up']\n",
      "\n",
      "\n",
      "['Coloring book moana', 'ART_AND_DESIGN', '3.9', '967', '14M', '500,000+', 'Free', '0', 'Everyone', 'Art & Design;Pretend Play', 'January 15, 2018', '2.0.0', '4.0.3 and up']\n",
      "\n",
      "\n",
      "['U Launcher Lite – FREE Live Cool Themes, Hide Apps', 'ART_AND_DESIGN', '4.7', '87510', '8.7M', '5,000,000+', 'Free', '0', 'Everyone', 'Art & Design', 'August 1, 2018', '1.2.4', '4.0.3 and up']\n",
      "\n",
      "\n",
      "['Sketch - Draw & Paint', 'ART_AND_DESIGN', '4.5', '215644', '25M', '50,000,000+', 'Free', '0', 'Teen', 'Art & Design', 'June 8, 2018', 'Varies with device', '4.2 and up']\n",
      "\n",
      "\n",
      "['Pixel Draw - Number Art Coloring Book', 'ART_AND_DESIGN', '4.3', '967', '2.8M', '100,000+', 'Free', '0', 'Everyone', 'Art & Design;Creativity', 'June 20, 2018', '1.1', '4.4 and up']\n",
      "\n",
      "\n",
      "Number of rows: 10841\n",
      "Number of columns: 13\n",
      "\n",
      "\n",
      "['App', 'Category', 'Rating', 'Reviews', 'Size', 'Installs', 'Type', 'Price', 'Content Rating', 'Genres', 'Last Updated', 'Current Ver', 'Android Ver']\n"
     ]
    }
   ],
   "source": [
    "# Exploring Google Play Store apps dataset\n",
    "explore_data(android, 0, 5, True)\n",
    "print('\\n')\n",
    "print(android_header)"
   ]
  },
  {
   "cell_type": "markdown",
   "id": "fa7d9655",
   "metadata": {},
   "source": [
    "Here is the link to the [Google Play store dataset](https://www.kaggle.com/datasets/lava18/google-play-store-apps) for documentation to better understand the columns."
   ]
  },
  {
   "cell_type": "markdown",
   "id": "9b3baa79",
   "metadata": {},
   "source": [
    "## Data Cleaning"
   ]
  },
  {
   "cell_type": "code",
   "execution_count": 5,
   "id": "346f89fb",
   "metadata": {},
   "outputs": [
    {
     "name": "stdout",
     "output_type": "stream",
     "text": [
      "['Life Made WI-Fi Touchscreen Photo Frame', '1.9', '19', '3.0M', '1,000+', 'Free', '0', 'Everyone', '', 'February 11, 2018', '1.0.19', '4.0 and up']\n"
     ]
    }
   ],
   "source": [
    "# In the discussion of this dataset, many users have found row\n",
    "# 10472 to be a problem in the Google Play Store data. Let's find out why.\n",
    "print(android[10472])"
   ]
  },
  {
   "cell_type": "code",
   "execution_count": 6,
   "id": "aa8b577b",
   "metadata": {},
   "outputs": [],
   "source": [
    "# # Deleting row 10473 because of missing data in the 'Category' \n",
    "# # column. This causes a column shift.\n",
    "\n",
    "del android[10472] # Don't run this more than once\n",
    "\n",
    "# # Commenting out this cell to prevent accidentally \n",
    "# # running this cell again"
   ]
  },
  {
   "cell_type": "code",
   "execution_count": 7,
   "id": "e3745699",
   "metadata": {},
   "outputs": [
    {
     "name": "stdout",
     "output_type": "stream",
     "text": [
      "['osmino Wi-Fi: free WiFi', 'TOOLS', '4.2', '134203', '4.1M', '10,000,000+', 'Free', '0', 'Everyone', 'Tools', 'August 7, 2018', '6.06.14', '4.4 and up']\n"
     ]
    }
   ],
   "source": [
    "# Let's check if that worked.\n",
    "print(android[10472])"
   ]
  },
  {
   "cell_type": "markdown",
   "id": "0eda254b",
   "metadata": {},
   "source": [
    "Awesome! We removed that faulty entry. Let's try to find any duplicates in the dataset. We don't want to count certain apps more than once when we analyze the data. We need to remove the duplicate entries and keep only one entry per app."
   ]
  },
  {
   "cell_type": "code",
   "execution_count": 77,
   "id": "9d49c8b6",
   "metadata": {},
   "outputs": [
    {
     "name": "stdout",
     "output_type": "stream",
     "text": [
      "Number of duplicate apps:  1181\n",
      "\n",
      "\n",
      "Examples of duplicate apps:  ['Quick PDF Scanner + OCR FREE', 'Box', 'Google My Business', 'ZOOM Cloud Meetings', 'join.me - Simple Meetings', 'Box', 'Zenefits', 'Google Ads', 'Google My Business', 'Slack', 'FreshBooks Classic', 'Insightly CRM', 'QuickBooks Accounting: Invoicing & Expenses', 'HipChat - Chat Built for Teams', 'Xero Accounting Software']\n"
     ]
    }
   ],
   "source": [
    "duplicate_apps = [] # Initializing an empty list to hold the dupes\n",
    "unique_apps = [] # Initializing an empty list to hold unique apps\n",
    "\n",
    "# Let's create a helper function to loop through the dataset to\n",
    "# find any duplicate data\n",
    "for app in android:\n",
    "    app_name = app[0]\n",
    "    if app_name in unique_apps:\n",
    "        duplicate_apps.append(app_name)\n",
    "    else:\n",
    "        unique_apps.append(app_name)\n",
    "        \n",
    "print('Number of duplicate apps: ', len(duplicate_apps))\n",
    "print('\\n')\n",
    "print('Examples of duplicate apps: ', duplicate_apps[:15])"
   ]
  },
  {
   "cell_type": "markdown",
   "id": "eda5fb40",
   "metadata": {},
   "source": [
    "Great! We've caught the suspects, but what next? Could we remove these duplicates at random? Let's find out."
   ]
  },
  {
   "cell_type": "code",
   "execution_count": 78,
   "id": "24fe8f3c",
   "metadata": {},
   "outputs": [
    {
     "name": "stdout",
     "output_type": "stream",
     "text": [
      "['ZOOM Cloud Meetings', 'BUSINESS', '4.4', '31614', '37M', '10,000,000+', 'Free', '0', 'Everyone', 'Business', 'July 20, 2018', '4.1.28165.0716', '4.0 and up']\n",
      "['ZOOM Cloud Meetings', 'BUSINESS', '4.4', '31614', '37M', '10,000,000+', 'Free', '0', 'Everyone', 'Business', 'July 20, 2018', '4.1.28165.0716', '4.0 and up']\n"
     ]
    }
   ],
   "source": [
    "# I'm going to explore some of these duplicates.\n",
    "for app in android:\n",
    "    name = app[0]\n",
    "    if name == 'ZOOM Cloud Meetings':\n",
    "        print(app)"
   ]
  },
  {
   "cell_type": "markdown",
   "id": "df4438f3",
   "metadata": {},
   "source": [
    "Hmm... these 2 entries look identical. Removing one at random could work here. But let's not give up just yet, I'm sure there's a better way."
   ]
  },
  {
   "cell_type": "code",
   "execution_count": 79,
   "id": "069ec80d",
   "metadata": {},
   "outputs": [
    {
     "name": "stdout",
     "output_type": "stream",
     "text": [
      "['Instagram', 'SOCIAL', '4.5', '66577313', 'Varies with device', '1,000,000,000+', 'Free', '0', 'Teen', 'Social', 'July 31, 2018', 'Varies with device', 'Varies with device']\n",
      "['Instagram', 'SOCIAL', '4.5', '66577446', 'Varies with device', '1,000,000,000+', 'Free', '0', 'Teen', 'Social', 'July 31, 2018', 'Varies with device', 'Varies with device']\n",
      "['Instagram', 'SOCIAL', '4.5', '66577313', 'Varies with device', '1,000,000,000+', 'Free', '0', 'Teen', 'Social', 'July 31, 2018', 'Varies with device', 'Varies with device']\n",
      "['Instagram', 'SOCIAL', '4.5', '66509917', 'Varies with device', '1,000,000,000+', 'Free', '0', 'Teen', 'Social', 'July 31, 2018', 'Varies with device', 'Varies with device']\n"
     ]
    }
   ],
   "source": [
    "# Just copying the code from above and testing with Instagram\n",
    "for app in android:\n",
    "    name = app[0]\n",
    "    if name == 'Instagram':\n",
    "        print(app)"
   ]
  },
  {
   "cell_type": "markdown",
   "id": "126d2c36",
   "metadata": {},
   "source": [
    "Gotcha! Instagram appears to have 4 duplicate entries. As you can see, each entry appears to be identical but with one column being slightly different from another. If we check the index, this is the `Reviews` column. Using this information we can build a criterion for removing the duplicates.\n",
    "\n",
    "The higher the number of reviews, the more recent the data should be. We'll only keep the row with the highest number of reviews and remove the other entires for any given app.\n",
    "\n",
    "Removing entries at random for this column would affect our anlysis. This way we can use the most recent and updated information to provide relevant information."
   ]
  },
  {
   "cell_type": "markdown",
   "id": "54b2a5bd",
   "metadata": {},
   "source": [
    "## Removing Duplicates"
   ]
  },
  {
   "cell_type": "code",
   "execution_count": 11,
   "id": "81c49719",
   "metadata": {},
   "outputs": [
    {
     "name": "stdout",
     "output_type": "stream",
     "text": [
      "9659\n"
     ]
    }
   ],
   "source": [
    "# Creating a dictionary where each key is a unique app \n",
    "# name and the corresponding dictionary value is the \n",
    "# highest number of reviews of that app\n",
    "reviews_max = {}\n",
    "\n",
    "# Looping through the Google Play data\n",
    "for app in android:\n",
    "    name = app[0]                     # app name index\n",
    "    n_reviews = float(app[3])         # 'reviews' column index and converting to float\n",
    "    if name in reviews_max and reviews_max[name] < n_reviews:\n",
    "        reviews_max[name] = n_reviews\n",
    "    elif name not in reviews_max:\n",
    "        reviews_max[name] = n_reviews\n",
    "    \n",
    "print(len(reviews_max))"
   ]
  },
  {
   "cell_type": "code",
   "execution_count": 12,
   "id": "d71c61f3",
   "metadata": {},
   "outputs": [
    {
     "name": "stdout",
     "output_type": "stream",
     "text": [
      "Expected length: 9659\n"
     ]
    }
   ],
   "source": [
    "print('Expected length:', len(android) - 1181) # Looking promising!"
   ]
  },
  {
   "cell_type": "code",
   "execution_count": 13,
   "id": "333a45af",
   "metadata": {},
   "outputs": [],
   "source": [
    "android_clean = [] # Store our new cleaned dataset\n",
    "already_added = [] # Store app names\n",
    "\n",
    "# Using the dictionary we created to remove dupes\n",
    "for app in android:\n",
    "    name = app[0]\n",
    "    n_reviews = float(app[3])\n",
    "    if n_reviews == reviews_max[name] and name not in already_added:\n",
    "        android_clean.append(app)\n",
    "        already_added.append(name)"
   ]
  },
  {
   "cell_type": "code",
   "execution_count": 14,
   "id": "77cdf902",
   "metadata": {},
   "outputs": [
    {
     "name": "stdout",
     "output_type": "stream",
     "text": [
      "9659\n"
     ]
    }
   ],
   "source": [
    "print(len(android_clean))"
   ]
  },
  {
   "cell_type": "markdown",
   "id": "c1a2abad",
   "metadata": {},
   "source": [
    "##### Now, let's check for any duplicates in the Apple Store."
   ]
  },
  {
   "cell_type": "code",
   "execution_count": 15,
   "id": "ababcaef",
   "metadata": {},
   "outputs": [
    {
     "name": "stdout",
     "output_type": "stream",
     "text": [
      "0\n"
     ]
    }
   ],
   "source": [
    "unique_ids = []    # Store unique iOS apps\n",
    "duplicate_ids = [] # Store duplicate iOS apps\n",
    "\n",
    "# Looping through Apple store data to find any duplicates\n",
    "for app in ios:\n",
    "    app_id = app[0]\n",
    "    if app_id in unique_ids:\n",
    "        duplicate_ids.append(app)\n",
    "    else:\n",
    "        unique_ids.append(app)\n",
    "\n",
    "print(len(duplicate_ids)) # No duplicates!"
   ]
  },
  {
   "cell_type": "markdown",
   "id": "afd06e03",
   "metadata": {},
   "source": [
    "Did someone say 'no duplicates'? I'll take it. "
   ]
  },
  {
   "cell_type": "markdown",
   "id": "ddca018c",
   "metadata": {},
   "source": [
    "#### Recall that at our company, we only build apps that are *free* to download and install, and we design them for an *English-speaking* audience. This means that we'll also have to do the following:\n",
    "\n",
    "- Remove non-English apps\n",
    "- Remove apps that aren't free"
   ]
  },
  {
   "cell_type": "markdown",
   "id": "4021666a",
   "metadata": {},
   "source": [
    "## Removing non-English apps"
   ]
  },
  {
   "cell_type": "markdown",
   "id": "514919e8",
   "metadata": {},
   "source": [
    "According to the [ASCII](https://en.wikipedia.org/wiki/ASCII) (American Standard Code for Information Interchange) system, The numbers corresponding to the characters we commonly use in an English text are all in the range 0 to 127. Based on this number range, we can build a function that detects whether a character belongs to the set of common English characters or not. English text usually includes letters from the English alphabet, numbers composed of digits from 0 to 9, punctuation marks (., !, ?, ;), and other symbols (+, *, /).\n",
    "\n",
    "We can use Python's built-in [ord()](https://docs.python.org/3/library/functions.html#ord) function to determine any given character's Unicode value. Whether this value is greater than 127 will give us a clear indication if this character is common English text."
   ]
  },
  {
   "cell_type": "code",
   "execution_count": 16,
   "id": "0ac08660",
   "metadata": {},
   "outputs": [],
   "source": [
    "# Helper function to detect non-English characters\n",
    "def is_english(app_string):\n",
    "    for char in app_string:\n",
    "        if ord(char) > 127:    # if unicode value is greater than 127 \n",
    "            return False       # return false\n",
    "    return True                # return true if value is in range"
   ]
  },
  {
   "cell_type": "code",
   "execution_count": 17,
   "id": "8fc3c762",
   "metadata": {},
   "outputs": [
    {
     "data": {
      "text/plain": [
       "True"
      ]
     },
     "execution_count": 17,
     "metadata": {},
     "output_type": "execute_result"
    }
   ],
   "source": [
    "# Let's see if our function works\n",
    "is_english('Instagram')"
   ]
  },
  {
   "cell_type": "code",
   "execution_count": 18,
   "id": "aad112c2",
   "metadata": {},
   "outputs": [
    {
     "data": {
      "text/plain": [
       "False"
      ]
     },
     "execution_count": 18,
     "metadata": {},
     "output_type": "execute_result"
    }
   ],
   "source": [
    "is_english('爱奇艺PPS -《欢乐颂2》电视剧热播')"
   ]
  },
  {
   "cell_type": "code",
   "execution_count": 19,
   "id": "741ef5c0",
   "metadata": {},
   "outputs": [
    {
     "data": {
      "text/plain": [
       "False"
      ]
     },
     "execution_count": 19,
     "metadata": {},
     "output_type": "execute_result"
    }
   ],
   "source": [
    "is_english('Docs To Go™ Free Office Suite')"
   ]
  },
  {
   "cell_type": "code",
   "execution_count": 20,
   "id": "db6e94ab",
   "metadata": {
    "scrolled": true
   },
   "outputs": [
    {
     "data": {
      "text/plain": [
       "False"
      ]
     },
     "execution_count": 20,
     "metadata": {},
     "output_type": "execute_result"
    }
   ],
   "source": [
    "is_english('Instachat 😜')"
   ]
  },
  {
   "cell_type": "code",
   "execution_count": 21,
   "id": "7d029ead",
   "metadata": {},
   "outputs": [
    {
     "data": {
      "text/plain": [
       "True"
      ]
     },
     "execution_count": 21,
     "metadata": {},
     "output_type": "execute_result"
    }
   ],
   "source": [
    "is_english('ZOOM Cloud Meetings')"
   ]
  },
  {
   "cell_type": "markdown",
   "id": "79756945",
   "metadata": {},
   "source": [
    "It looks like our function doesn't recognize these two apps, 'Docs To Go™ Free Office Suite' and 'Instachat 😜', as English. That's probably because the '™' and the '😜' don't fall within the 0 - 127 ASCII range. Let's see their Unicode value."
   ]
  },
  {
   "cell_type": "code",
   "execution_count": 22,
   "id": "7106bffa",
   "metadata": {
    "scrolled": true
   },
   "outputs": [
    {
     "name": "stdout",
     "output_type": "stream",
     "text": [
      "8482\n",
      "128540\n"
     ]
    }
   ],
   "source": [
    "print(ord('™'))\n",
    "print(ord('😜'))"
   ]
  },
  {
   "cell_type": "markdown",
   "id": "d0eabd25",
   "metadata": {},
   "source": [
    "## Removing non-English apps p.2"
   ]
  },
  {
   "cell_type": "markdown",
   "id": "03ce389e",
   "metadata": {},
   "source": [
    "It seems like we'd lose valuable data if we didn't include apps like these. Let's tweek our function to handle some of these edge cases. To minimize the impact of data loss, we'll only remove an app if its name has more than 3 characters with corresponding numbers falling outside the ASCII range."
   ]
  },
  {
   "cell_type": "code",
   "execution_count": 23,
   "id": "b09a3034",
   "metadata": {},
   "outputs": [],
   "source": [
    "# Helper function to detect non-English characters\n",
    "def is_english(app_string):\n",
    "    non_english_chars = 0            # Initializing a count of non-English characters present in the string\n",
    "    for char in app_string:\n",
    "        if ord(char) > 127:\n",
    "            non_english_chars += 1   # Adding 1 to the count to keep track\n",
    "    if non_english_chars > 3:        # If count > 3\n",
    "        return False                 # Return False (identifies the string as non-English)\n",
    "    \n",
    "    return True                      # Otherwise, return True"
   ]
  },
  {
   "cell_type": "code",
   "execution_count": 24,
   "id": "f7ff43d4",
   "metadata": {},
   "outputs": [
    {
     "data": {
      "text/plain": [
       "False"
      ]
     },
     "execution_count": 24,
     "metadata": {},
     "output_type": "execute_result"
    }
   ],
   "source": [
    "# Let's see if the function works more like we'd like\n",
    "is_english('爱奇艺PPS -《欢乐颂2》电视剧热播')"
   ]
  },
  {
   "cell_type": "code",
   "execution_count": 25,
   "id": "e3b0c1f4",
   "metadata": {},
   "outputs": [
    {
     "data": {
      "text/plain": [
       "True"
      ]
     },
     "execution_count": 25,
     "metadata": {},
     "output_type": "execute_result"
    }
   ],
   "source": [
    "is_english('Docs To Go™ Free Office Suite')"
   ]
  },
  {
   "cell_type": "code",
   "execution_count": 26,
   "id": "89536e54",
   "metadata": {},
   "outputs": [
    {
     "data": {
      "text/plain": [
       "True"
      ]
     },
     "execution_count": 26,
     "metadata": {},
     "output_type": "execute_result"
    }
   ],
   "source": [
    "is_english('Instachat 😜')"
   ]
  },
  {
   "cell_type": "markdown",
   "id": "2cd8651e",
   "metadata": {},
   "source": [
    "Great! Now we can put this function to good use. We can filter out non-English apps from both datasets. "
   ]
  },
  {
   "cell_type": "code",
   "execution_count": 27,
   "id": "1bb7a286",
   "metadata": {},
   "outputs": [
    {
     "name": "stdout",
     "output_type": "stream",
     "text": [
      "['Photo Editor & Candy Camera & Grid & ScrapBook', 'ART_AND_DESIGN', '4.1', '159', '19M', '10,000+', 'Free', '0', 'Everyone', 'Art & Design', 'January 7, 2018', '1.0.0', '4.0.3 and up']\n",
      "\n",
      "\n",
      "['U Launcher Lite – FREE Live Cool Themes, Hide Apps', 'ART_AND_DESIGN', '4.7', '87510', '8.7M', '5,000,000+', 'Free', '0', 'Everyone', 'Art & Design', 'August 1, 2018', '1.2.4', '4.0.3 and up']\n",
      "\n",
      "\n",
      "['Sketch - Draw & Paint', 'ART_AND_DESIGN', '4.5', '215644', '25M', '50,000,000+', 'Free', '0', 'Teen', 'Art & Design', 'June 8, 2018', 'Varies with device', '4.2 and up']\n",
      "\n",
      "\n",
      "Number of rows: 9614\n",
      "Number of columns: 13\n",
      "\n",
      "\n",
      "['284882215', 'Facebook', '389879808', 'USD', '0.0', '2974676', '212', '3.5', '3.5', '95.0', '4+', 'Social Networking', '37', '1', '29', '1']\n",
      "\n",
      "\n",
      "['389801252', 'Instagram', '113954816', 'USD', '0.0', '2161558', '1289', '4.5', '4.0', '10.23', '12+', 'Photo & Video', '37', '0', '29', '1']\n",
      "\n",
      "\n",
      "['529479190', 'Clash of Clans', '116476928', 'USD', '0.0', '2130805', '579', '4.5', '4.5', '9.24.12', '9+', 'Games', '38', '5', '18', '1']\n",
      "\n",
      "\n",
      "Number of rows: 6183\n",
      "Number of columns: 16\n"
     ]
    }
   ],
   "source": [
    "android_english = []\n",
    "ios_english = []\n",
    "\n",
    "# Filtering Google Play Store Apps\n",
    "for app in android_clean:\n",
    "    name = app[0]\n",
    "    if is_english(name):\n",
    "        android_english.append(app)\n",
    "\n",
    "# Filtering Apple Store Apps\n",
    "for app in ios:\n",
    "    name = app[1]\n",
    "    if is_english(name):\n",
    "        ios_english.append(app)\n",
    "        \n",
    "explore_data(android_english, 0, 3, True)\n",
    "print('\\n')\n",
    "explore_data(ios_english, 0, 3, True)"
   ]
  },
  {
   "cell_type": "markdown",
   "id": "e6c3d0ba",
   "metadata": {},
   "source": [
    "## Isolating the Free Apps"
   ]
  },
  {
   "cell_type": "markdown",
   "id": "fb427329",
   "metadata": {},
   "source": [
    "So far in the Data Cleaning process we've:\n",
    "- Removed inaccurate data\n",
    "- Removed duplicate app entries\n",
    "- Removed non-English apps\n",
    "\n",
    "As aforementioned, this company only builds apps that are free to download and install, and our main source of revenue consists of in-app ads. Let's isolate the free apps from the non-free apps so we can proceed with our analysis"
   ]
  },
  {
   "cell_type": "code",
   "execution_count": 29,
   "id": "763f2cdd",
   "metadata": {},
   "outputs": [
    {
     "name": "stdout",
     "output_type": "stream",
     "text": [
      "8864\n",
      "3222\n"
     ]
    }
   ],
   "source": [
    "android_final = [] # Initializing list for paid ios apps\n",
    "ios_final = [] # Initializing list for free ios apps\n",
    "\n",
    "# Loop through ios dataset to isolate the free apps\n",
    "for app in android_english:\n",
    "    price = app[7]\n",
    "    if price == '0':\n",
    "        android_final.append(app)\n",
    "        \n",
    "for app in ios_english:\n",
    "    price = app[4]\n",
    "    if price == '0.0':\n",
    "        ios_final.append(app)\n",
    "        \n",
    "        \n",
    "print(len(android_final))\n",
    "print(len(ios_final))"
   ]
  },
  {
   "cell_type": "markdown",
   "id": "26666460",
   "metadata": {},
   "source": [
    "After all the data cleaning, we are left with 8864 Android and 3222 iOS apps to work with. This should be enough for our analysis."
   ]
  },
  {
   "cell_type": "markdown",
   "id": "9b76cd71",
   "metadata": {},
   "source": [
    "## Most Common Apps by Genre"
   ]
  },
  {
   "cell_type": "markdown",
   "id": "e65e274b",
   "metadata": {},
   "source": [
    "### Part One"
   ]
  },
  {
   "cell_type": "markdown",
   "id": "6cc64132",
   "metadata": {},
   "source": [
    "As mentioned in the introduction, the goal is to determine the kinds of apps that are likely to attract more users because the number of people using our apps affect our revenue. \n",
    "\n",
    "To minimize risk and overhead, our validation strategy for an app idea has three steps:\n",
    "\n",
    "1. Build a minimal Android version of the app, and add it to Google Play.\n",
    "2. If the app has a good response from users, we develop it further.\n",
    "3. If the app is profitable after six months, we build an iOS version of the app and add it to the App Store.\n",
    "\n",
    "Android has the larger user base compared to the iOS. Since we don't have much information yet regarding the app we want to launch, it would generally reach a large amount of users in a shorter amount of time. Development on Android is also more open platform, so there is more flexibility an customization in the app development process.\n",
    "\n",
    "The end goal is to add the app on both Google Play and App Store. To do so, we need to find app profiles that work well for both markets. For instance, a profile that works well for both markets might be a productivity app that makes use of gamification."
   ]
  },
  {
   "cell_type": "code",
   "execution_count": 36,
   "id": "a7ddba9e",
   "metadata": {},
   "outputs": [
    {
     "name": "stdout",
     "output_type": "stream",
     "text": [
      "['App', 'Category', 'Rating', 'Reviews', 'Size', 'Installs', 'Type', 'Price', 'Content Rating', 'Genres', 'Last Updated', 'Current Ver', 'Android Ver']\n"
     ]
    }
   ],
   "source": [
    "print(android_header)"
   ]
  },
  {
   "cell_type": "code",
   "execution_count": 34,
   "id": "697e9d44",
   "metadata": {},
   "outputs": [
    {
     "name": "stdout",
     "output_type": "stream",
     "text": [
      "['id', 'track_name', 'size_bytes', 'currency', 'price', 'rating_count_tot', 'rating_count_ver', 'user_rating', 'user_rating_ver', 'ver', 'cont_rating', 'prime_genre', 'sup_devices.num', 'ipadSc_urls.num', 'lang.num', 'vpp_lic']\n"
     ]
    }
   ],
   "source": [
    "print(ios_header)"
   ]
  },
  {
   "cell_type": "markdown",
   "id": "b5002691",
   "metadata": {},
   "source": [
    "### Part Two"
   ]
  },
  {
   "cell_type": "markdown",
   "id": "78164679",
   "metadata": {},
   "source": [
    "From the headers above, let's build a frequenct table for the `prime_genre` column of the App Store data set, and for the `Genres` and `Category` columns of the Google play data set."
   ]
  },
  {
   "cell_type": "code",
   "execution_count": 72,
   "id": "d56ebeea",
   "metadata": {},
   "outputs": [],
   "source": [
    "# Creating a function to return a frequency table as a dictionary for any column we want.\n",
    "# The frequencies will be expressed as percentages.\n",
    "def freq_table(dataset, index):\n",
    "    table = {}\n",
    "    total_apps = 0\n",
    "    \n",
    "    for row in dataset:\n",
    "        total_apps += 1\n",
    "        \n",
    "        value = row[index]\n",
    "        if value in table:\n",
    "            table[value] += 1\n",
    "        else:\n",
    "            table[value] = 1\n",
    "        \n",
    "    percentages_table = {}\n",
    "    for key in table:\n",
    "        percentage = (table[key] / total_apps) * 100\n",
    "        percentages_table[key] = percentage\n",
    "        \n",
    "    return percentages_table\n",
    "\n",
    "\n",
    "# Helper function to display the frequency table\n",
    "def display_table(dataset, index):\n",
    "    table = freq_table(dataset, index)\n",
    "    table_display = []\n",
    "    for key in table:\n",
    "        key_val_as_tuple = (table[key], key)\n",
    "        table_display.append(key_val_as_tuple)\n",
    "\n",
    "    table_sorted = sorted(table_display, reverse = True)\n",
    "    for entry in table_sorted:\n",
    "        print(entry[1], ':', entry[0])"
   ]
  },
  {
   "cell_type": "markdown",
   "id": "2df98f15",
   "metadata": {},
   "source": [
    "### Part Three"
   ]
  },
  {
   "cell_type": "code",
   "execution_count": 76,
   "id": "0b032ddd",
   "metadata": {},
   "outputs": [
    {
     "name": "stdout",
     "output_type": "stream",
     "text": [
      "Games : 58.16263190564867\n",
      "Entertainment : 7.883302296710118\n",
      "Photo & Video : 4.9658597144630665\n",
      "Education : 3.662321539416512\n",
      "Social Networking : 3.2898820608317814\n",
      "Shopping : 2.60707635009311\n",
      "Utilities : 2.5139664804469275\n",
      "Sports : 2.1415270018621975\n",
      "Music : 2.0484171322160147\n",
      "Health & Fitness : 2.0173805090006205\n",
      "Productivity : 1.7380509000620732\n",
      "Lifestyle : 1.5828677839851024\n",
      "News : 1.3345747982619491\n",
      "Travel : 1.2414649286157666\n",
      "Finance : 1.1173184357541899\n",
      "Weather : 0.8690254500310366\n",
      "Food & Drink : 0.8069522036002483\n",
      "Reference : 0.5586592178770949\n",
      "Business : 0.5276225946617008\n",
      "Book : 0.4345127250155183\n",
      "Navigation : 0.186219739292365\n",
      "Medical : 0.186219739292365\n",
      "Catalogs : 0.12414649286157665\n"
     ]
    }
   ],
   "source": [
    "display_table(ios_final, -5)"
   ]
  },
  {
   "cell_type": "markdown",
   "id": "5902ac77",
   "metadata": {},
   "source": [
    "We can see that among the free English apps in the App Store, more than half (58.16%) of all apps are in the games genre. Entertainment comes in around 7.88%, Photo & Video - 4.97%, Education - 3.66%, Social Networking - 3.29%, and Shopping at 2.60%. \n",
    "\n",
    "The general impression is that App Store (at least the part containing free English apps) is dominated by apps that are designed for fun (games, entertainment, photo and video, social networking, sports, music, etc.), while apps with practical purposes (education, shopping, utilities, productivity, lifestyle, etc.) are more rare. However, the fact that fun apps are the most numerous doesn't also imply that they also have the greatest number of users — the demand might not be the same as the offer.\n",
    "\n",
    "Let's continue by examining the `Genres` and `Category` columns of the Google Play data set (two columns which seem to be related)."
   ]
  },
  {
   "cell_type": "code",
   "execution_count": 82,
   "id": "8bfa38a7",
   "metadata": {},
   "outputs": [
    {
     "name": "stdout",
     "output_type": "stream",
     "text": [
      "FAMILY : 18.907942238267147\n",
      "GAME : 9.724729241877256\n",
      "TOOLS : 8.461191335740072\n",
      "BUSINESS : 4.591606498194946\n",
      "LIFESTYLE : 3.9034296028880866\n",
      "PRODUCTIVITY : 3.892148014440433\n",
      "FINANCE : 3.7003610108303246\n",
      "MEDICAL : 3.531137184115524\n",
      "SPORTS : 3.395758122743682\n",
      "PERSONALIZATION : 3.3167870036101084\n",
      "COMMUNICATION : 3.2378158844765346\n",
      "HEALTH_AND_FITNESS : 3.0798736462093865\n",
      "PHOTOGRAPHY : 2.944494584837545\n",
      "NEWS_AND_MAGAZINES : 2.7978339350180503\n",
      "SOCIAL : 2.6624548736462095\n",
      "TRAVEL_AND_LOCAL : 2.33528880866426\n",
      "SHOPPING : 2.2450361010830324\n",
      "BOOKS_AND_REFERENCE : 2.1435018050541514\n",
      "DATING : 1.861462093862816\n",
      "VIDEO_PLAYERS : 1.7937725631768955\n",
      "MAPS_AND_NAVIGATION : 1.3989169675090252\n",
      "FOOD_AND_DRINK : 1.2409747292418771\n",
      "EDUCATION : 1.1620036101083033\n",
      "ENTERTAINMENT : 0.9589350180505415\n",
      "LIBRARIES_AND_DEMO : 0.9363718411552346\n",
      "AUTO_AND_VEHICLES : 0.9250902527075812\n",
      "HOUSE_AND_HOME : 0.8235559566787004\n",
      "WEATHER : 0.8009927797833934\n",
      "EVENTS : 0.7107400722021661\n",
      "PARENTING : 0.6543321299638989\n",
      "ART_AND_DESIGN : 0.6430505415162455\n",
      "COMICS : 0.6204873646209386\n",
      "BEAUTY : 0.5979241877256317\n"
     ]
    }
   ],
   "source": [
    "display_table(android_final, 1) # Category"
   ]
  },
  {
   "cell_type": "markdown",
   "id": "ff1df5d5",
   "metadata": {},
   "source": [
    "The landscape looks significantly different here on the Google Play Store. There seems to be a smoother distribution of apps developed for practical purposes rather than a majority of apps being for fun as it was in the App Store. However, the Family category accounts for almost 19% of all free non-English apps. This could mean kids games take up 19% of apps!\n",
    "\n",
    "Even so, practical apps on the Google Play Store are represented much more compared to the App Store. "
   ]
  },
  {
   "cell_type": "code",
   "execution_count": 83,
   "id": "c23d398b",
   "metadata": {},
   "outputs": [
    {
     "name": "stdout",
     "output_type": "stream",
     "text": [
      "Tools : 8.449909747292418\n",
      "Entertainment : 6.069494584837545\n",
      "Education : 5.347472924187725\n",
      "Business : 4.591606498194946\n",
      "Productivity : 3.892148014440433\n",
      "Lifestyle : 3.892148014440433\n",
      "Finance : 3.7003610108303246\n",
      "Medical : 3.531137184115524\n",
      "Sports : 3.463447653429603\n",
      "Personalization : 3.3167870036101084\n",
      "Communication : 3.2378158844765346\n",
      "Action : 3.1024368231046933\n",
      "Health & Fitness : 3.0798736462093865\n",
      "Photography : 2.944494584837545\n",
      "News & Magazines : 2.7978339350180503\n",
      "Social : 2.6624548736462095\n",
      "Travel & Local : 2.3240072202166067\n",
      "Shopping : 2.2450361010830324\n",
      "Books & Reference : 2.1435018050541514\n",
      "Simulation : 2.0419675090252705\n",
      "Dating : 1.861462093862816\n",
      "Arcade : 1.8501805054151623\n",
      "Video Players & Editors : 1.7712093862815883\n",
      "Casual : 1.7599277978339352\n",
      "Maps & Navigation : 1.3989169675090252\n",
      "Food & Drink : 1.2409747292418771\n",
      "Puzzle : 1.128158844765343\n",
      "Racing : 0.9927797833935018\n",
      "Role Playing : 0.9363718411552346\n",
      "Libraries & Demo : 0.9363718411552346\n",
      "Auto & Vehicles : 0.9250902527075812\n",
      "Strategy : 0.9138086642599278\n",
      "House & Home : 0.8235559566787004\n",
      "Weather : 0.8009927797833934\n",
      "Events : 0.7107400722021661\n",
      "Adventure : 0.6768953068592057\n",
      "Comics : 0.6092057761732852\n",
      "Beauty : 0.5979241877256317\n",
      "Art & Design : 0.5979241877256317\n",
      "Parenting : 0.4963898916967509\n",
      "Card : 0.45126353790613716\n",
      "Casino : 0.42870036101083037\n",
      "Trivia : 0.41741877256317694\n",
      "Educational;Education : 0.39485559566787\n",
      "Board : 0.3835740072202166\n",
      "Educational : 0.3722924187725632\n",
      "Education;Education : 0.33844765342960287\n",
      "Word : 0.2594765342960289\n",
      "Casual;Pretend Play : 0.236913357400722\n",
      "Music : 0.2030685920577617\n",
      "Racing;Action & Adventure : 0.16922382671480143\n",
      "Puzzle;Brain Games : 0.16922382671480143\n",
      "Entertainment;Music & Video : 0.16922382671480143\n",
      "Casual;Brain Games : 0.13537906137184114\n",
      "Casual;Action & Adventure : 0.13537906137184114\n",
      "Arcade;Action & Adventure : 0.12409747292418773\n",
      "Action;Action & Adventure : 0.10153429602888085\n",
      "Educational;Pretend Play : 0.09025270758122744\n",
      "Simulation;Action & Adventure : 0.078971119133574\n",
      "Parenting;Education : 0.078971119133574\n",
      "Entertainment;Brain Games : 0.078971119133574\n",
      "Board;Brain Games : 0.078971119133574\n",
      "Parenting;Music & Video : 0.06768953068592057\n",
      "Educational;Brain Games : 0.06768953068592057\n",
      "Casual;Creativity : 0.06768953068592057\n",
      "Art & Design;Creativity : 0.06768953068592057\n",
      "Education;Pretend Play : 0.056407942238267145\n",
      "Role Playing;Pretend Play : 0.04512635379061372\n",
      "Education;Creativity : 0.04512635379061372\n",
      "Role Playing;Action & Adventure : 0.033844765342960284\n",
      "Puzzle;Action & Adventure : 0.033844765342960284\n",
      "Entertainment;Creativity : 0.033844765342960284\n",
      "Entertainment;Action & Adventure : 0.033844765342960284\n",
      "Educational;Creativity : 0.033844765342960284\n",
      "Educational;Action & Adventure : 0.033844765342960284\n",
      "Education;Music & Video : 0.033844765342960284\n",
      "Education;Brain Games : 0.033844765342960284\n",
      "Education;Action & Adventure : 0.033844765342960284\n",
      "Adventure;Action & Adventure : 0.033844765342960284\n",
      "Video Players & Editors;Music & Video : 0.02256317689530686\n",
      "Sports;Action & Adventure : 0.02256317689530686\n",
      "Simulation;Pretend Play : 0.02256317689530686\n",
      "Puzzle;Creativity : 0.02256317689530686\n",
      "Music;Music & Video : 0.02256317689530686\n",
      "Entertainment;Pretend Play : 0.02256317689530686\n",
      "Casual;Education : 0.02256317689530686\n",
      "Board;Action & Adventure : 0.02256317689530686\n",
      "Video Players & Editors;Creativity : 0.01128158844765343\n",
      "Trivia;Education : 0.01128158844765343\n",
      "Travel & Local;Action & Adventure : 0.01128158844765343\n",
      "Tools;Education : 0.01128158844765343\n",
      "Strategy;Education : 0.01128158844765343\n",
      "Strategy;Creativity : 0.01128158844765343\n",
      "Strategy;Action & Adventure : 0.01128158844765343\n",
      "Simulation;Education : 0.01128158844765343\n",
      "Role Playing;Brain Games : 0.01128158844765343\n",
      "Racing;Pretend Play : 0.01128158844765343\n",
      "Puzzle;Education : 0.01128158844765343\n",
      "Parenting;Brain Games : 0.01128158844765343\n",
      "Music & Audio;Music & Video : 0.01128158844765343\n",
      "Lifestyle;Pretend Play : 0.01128158844765343\n",
      "Lifestyle;Education : 0.01128158844765343\n",
      "Health & Fitness;Education : 0.01128158844765343\n",
      "Health & Fitness;Action & Adventure : 0.01128158844765343\n",
      "Entertainment;Education : 0.01128158844765343\n",
      "Communication;Creativity : 0.01128158844765343\n",
      "Comics;Creativity : 0.01128158844765343\n",
      "Casual;Music & Video : 0.01128158844765343\n",
      "Card;Action & Adventure : 0.01128158844765343\n",
      "Books & Reference;Education : 0.01128158844765343\n",
      "Art & Design;Pretend Play : 0.01128158844765343\n",
      "Art & Design;Action & Adventure : 0.01128158844765343\n",
      "Arcade;Pretend Play : 0.01128158844765343\n",
      "Adventure;Education : 0.01128158844765343\n"
     ]
    }
   ],
   "source": [
    "display_table(android_final, -4) # Genres"
   ]
  },
  {
   "cell_type": "markdown",
   "id": "d10f1bb2",
   "metadata": {},
   "source": [
    "The difference between the `Category` and `Genres` columns isn't clear here, but one thing that we can notice is that the `Genres` column is much more granular (even more categories to be sepecifc). The scope of this project is broad enough where we can use the `Category` column only from this point forward. \n",
    "\n",
    "From these few analyses, we can deduce that the App Store is dominated by a number of apps dedicated for fun activities like games and entertainment. On the other hand, the Google Play Store has a more leveled distribution of for-fun apps and practical apps."
   ]
  },
  {
   "cell_type": "markdown",
   "id": "bd90a133",
   "metadata": {},
   "source": [
    "## Most popular Apps by Genre on the App Store"
   ]
  },
  {
   "cell_type": "markdown",
   "id": "3015ba8d",
   "metadata": {},
   "source": [
    "One way to find out what genres are the most popular (have the most users) is to calculate the average number of installs for each app genre. For the Google Play data set, we can find this information in the `Installs` column, but for the App Store data set this information is missing. As a workaround, we'll take the total number of user ratings as a proxy, which we can find in the `rating_count_tot` app.\n",
    "\n",
    "Below, we calculate the average number of user ratings per app genre on the App Store:"
   ]
  },
  {
   "cell_type": "code",
   "execution_count": 94,
   "id": "85d67120",
   "metadata": {},
   "outputs": [
    {
     "name": "stdout",
     "output_type": "stream",
     "text": [
      "Social Networking : 71548.34905660378\n",
      "Photo & Video : 28441.54375\n",
      "Games : 22788.6696905016\n",
      "Music : 57326.530303030304\n",
      "Reference : 74942.11111111111\n",
      "Health & Fitness : 23298.015384615384\n",
      "Weather : 52279.892857142855\n",
      "Utilities : 18684.456790123455\n",
      "Travel : 28243.8\n",
      "Shopping : 26919.690476190477\n",
      "News : 21248.023255813954\n",
      "Navigation : 86090.33333333333\n",
      "Lifestyle : 16485.764705882353\n",
      "Entertainment : 14029.830708661417\n",
      "Food & Drink : 33333.92307692308\n",
      "Sports : 23008.898550724636\n",
      "Book : 39758.5\n",
      "Finance : 31467.944444444445\n",
      "Education : 7003.983050847458\n",
      "Productivity : 21028.410714285714\n",
      "Business : 7491.117647058823\n",
      "Catalogs : 4004.0\n",
      "Medical : 612.0\n"
     ]
    }
   ],
   "source": [
    "genres_ios = freq_table(ios_final, -5)\n",
    "\n",
    "for genre in genres_ios:\n",
    "    total = 0\n",
    "    len_genre = 0\n",
    "    for app in ios_final:\n",
    "        genre_app = app[-5]\n",
    "        if genre_app == genre:\n",
    "            n_ratings = float(app[5])\n",
    "            total += n_ratings\n",
    "            len_genre += 1\n",
    "    avg_n_ratings = total / len_genre\n",
    "    print(genre, ':', avg_n_ratings)"
   ]
  },
  {
   "cell_type": "markdown",
   "id": "08b096fe",
   "metadata": {},
   "source": [
    "On average, the navigation apps have the highest number of user reviews, but this figure is heavily influenced by giants like Waze, and Google Maps."
   ]
  },
  {
   "cell_type": "code",
   "execution_count": 96,
   "id": "0a5fb557",
   "metadata": {},
   "outputs": [
    {
     "name": "stdout",
     "output_type": "stream",
     "text": [
      "Waze - GPS Navigation, Maps & Real-time Traffic : 345046\n",
      "Google Maps - Navigation & Transit : 154911\n",
      "Geocaching® : 12811\n",
      "CoPilot GPS – Car Navigation & Offline Maps : 3582\n",
      "ImmobilienScout24: Real Estate Search in Germany : 187\n",
      "Railway Route Search : 5\n"
     ]
    }
   ],
   "source": [
    "for app in ios_final:\n",
    "    if app[-5] == 'Navigation':\n",
    "        print(app[1], ':', app[5]) # print name and number of ratings"
   ]
  },
  {
   "cell_type": "markdown",
   "id": "95669243",
   "metadata": {},
   "source": [
    "This pattern is the same for the social networking genre since their figures would also be heavily influenced by apps such as Facebook, Instagram, Snapchat, Pinterest. I would think the same applied to music apps, where a few big players like Spotify and Shazam heavily influence the average number.\n",
    "\n",
    "Our aim is to find popular genres, but navigation, social networking, or music might seem more popular than they really are. The average number of these apps seem to be skewed by the few mainstream apps that rake in hundreds of thousands of reviews, while these other apps can barely reach 10,000 reviews. We could possibly get a better picture by removing these few apps for each genre and then rework the averages, but we'll leave this level of detail for later."
   ]
  },
  {
   "cell_type": "code",
   "execution_count": 98,
   "id": "6c9e00f6",
   "metadata": {},
   "outputs": [
    {
     "name": "stdout",
     "output_type": "stream",
     "text": [
      "The Weather Channel: Forecast, Radar & Alerts : 495626\n",
      "The Weather Channel App for iPad – best local forecast, radar map, and storm tracking : 208648\n",
      "WeatherBug - Local Weather, Radar, Maps, Alerts : 188583\n",
      "MyRadar NOAA Weather Radar Forecast : 150158\n",
      "AccuWeather - Weather for Life : 144214\n",
      "Yahoo Weather : 112603\n",
      "Weather Underground: Custom Forecast & Local Radar : 49192\n",
      "NOAA Weather Radar - Weather Forecast & HD Radar : 45696\n",
      "Weather Live Free - Weather Forecast & Alerts : 35702\n",
      "Storm Radar : 22792\n",
      "QuakeFeed Earthquake Map, Alerts, and News : 6081\n",
      "Moji Weather - Free Weather Forecast : 2333\n",
      "Hurricane by American Red Cross : 1158\n",
      "Forecast Bar : 375\n",
      "Hurricane Tracker WESH 2 Orlando, Central Florida : 203\n",
      "FEMA : 128\n",
      "iWeather - World weather forecast : 80\n",
      "Weather - Radar - Storm with Morecast App : 78\n",
      "Yurekuru Call : 53\n",
      "Weather & Radar : 37\n",
      "WRAL Weather Alert : 25\n",
      "Météo-France : 24\n",
      "JaxReady : 22\n",
      "Freddy the Frogcaster's Weather Station : 14\n",
      "Almanac Long-Range Weather Forecast : 12\n",
      "TodayAir : 0\n",
      "wetter.com : 0\n",
      "WarnWetter : 0\n"
     ]
    }
   ],
   "source": [
    "for app in ios_final:\n",
    "    if app[-5] == 'Weather':\n",
    "        print(app[1], ':', app[5]) "
   ]
  },
  {
   "cell_type": "markdown",
   "id": "ed1457d4",
   "metadata": {},
   "source": [
    "The weather genre does seem popular, yet it's skewed enough to raise some concerns. There probably won't be many people who spend most of their time in-app with apps like these so let's look for another.\n",
    "\n",
    "Reference apps have 74,942 user ratings on average, but it's actually the Bible and Dictionary.com which skew the average rating:"
   ]
  },
  {
   "cell_type": "code",
   "execution_count": 105,
   "id": "582db1c2",
   "metadata": {},
   "outputs": [
    {
     "name": "stdout",
     "output_type": "stream",
     "text": [
      "Bible : 985920\n",
      "Dictionary.com Dictionary & Thesaurus : 200047\n",
      "Dictionary.com Dictionary & Thesaurus for iPad : 54175\n",
      "Google Translate : 26786\n",
      "Muslim Pro: Ramadan 2017 Prayer Times, Azan, Quran : 18418\n",
      "New Furniture Mods - Pocket Wiki & Game Tools for Minecraft PC Edition : 17588\n",
      "Merriam-Webster Dictionary : 16849\n",
      "Night Sky : 12122\n",
      "City Maps for Minecraft PE - The Best Maps for Minecraft Pocket Edition (MCPE) : 8535\n",
      "LUCKY BLOCK MOD ™ for Minecraft PC Edition - The Best Pocket Wiki & Mods Installer Tools : 4693\n",
      "GUNS MODS for Minecraft PC Edition - Mods Tools : 1497\n",
      "Guides for Pokémon GO - Pokemon GO News and Cheats : 826\n",
      "WWDC : 762\n",
      "Horror Maps for Minecraft PE - Download The Scariest Maps for Minecraft Pocket Edition (MCPE) Free : 718\n",
      "VPN Express : 14\n",
      "Real Bike Traffic Rider Virtual Reality Glasses : 8\n",
      "教えて!goo : 0\n",
      "Jishokun-Japanese English Dictionary & Translator : 0\n"
     ]
    }
   ],
   "source": [
    "for app in ios_final:\n",
    "    if app[-5] == 'Reference':\n",
    "        print(app[1], ':', app[5])"
   ]
  },
  {
   "cell_type": "markdown",
   "id": "fe8711de",
   "metadata": {},
   "source": [
    "Let's take a look at the Health & Fitness apps"
   ]
  },
  {
   "cell_type": "code",
   "execution_count": 106,
   "id": "a39df2f4",
   "metadata": {},
   "outputs": [
    {
     "name": "stdout",
     "output_type": "stream",
     "text": [
      "Calorie Counter & Diet Tracker by MyFitnessPal : 507706\n",
      "Lose It! – Weight Loss Program and Calorie Counter : 373835\n",
      "Weight Watchers : 136833\n",
      "Sleep Cycle alarm clock : 104539\n",
      "Fitbit : 90496\n",
      "Period Tracker Lite : 53620\n",
      "Nike+ Training Club - Workouts & Fitness Plans : 33969\n",
      "Plant Nanny - Water Reminder with Cute Plants : 27421\n",
      "Sworkit - Custom Workouts for Exercise & Fitness : 16819\n",
      "Clue Period Tracker: Period & Ovulation Tracker : 13436\n",
      "Headspace : 12819\n",
      "Fooducate - Lose Weight, Eat Healthy,Get Motivated : 11875\n",
      "Runtastic Running, Jogging and Walking Tracker : 10298\n",
      "WebMD for iPad : 9142\n",
      "8fit - Workouts, meal plans and personal trainer : 8730\n",
      "Garmin Connect™ Mobile : 8341\n",
      "Record by Under Armour, connects with UA HealthBox : 7754\n",
      "Fitstar Personal Trainer : 7496\n",
      "My Cycles Period and Ovulation Tracker : 7469\n",
      "Seven - 7 Minute Workout Training Challenge : 6808\n",
      "RUNNING for weight loss: workout & meal plans : 6407\n",
      "Lifesum – Inspiring healthy lifestyle app : 5795\n",
      "Waterlogged - Daily Hydration Tracker : 5000\n",
      "J&J Official 7 Minute Workout : 4861\n",
      "Fitbod Workout Log: Strength Lifting Bodybuilding : 4668\n",
      "Runtastic Six Pack Abs Workout & Core Trainer : 4283\n",
      "Sweat: Kayla Itsines' Bikini Body Fitness Workouts : 3788\n",
      "Smart Alarm Clock : sleep cycle & snoring recorder : 3779\n",
      "My Challenge Tracker : 3682\n",
      "Charity Miles: Walking & Running Distance Tracker : 3115\n",
      "Ab & Core Sworkit - Free Workout Trainer : 2901\n",
      "Simple Habit : 2494\n",
      "Asana Rebel - Yoga Inspired Fitness : 2459\n",
      "Life Cycle - Track Your Time Automatically : 1760\n",
      "Freeletics Bodyweight - Workouts and Training : 1722\n",
      "Runtastic Results: Workout & Bodyweight Training : 1718\n",
      "My Water Balance: Daily Drink Tracker & Reminder : 1601\n",
      "Butt Sworkit - Free Workout Trainer to tone & lift : 960\n",
      "My Score Plus Weight Loss, Food & Exercise Tracker : 467\n",
      "Sleep Meister - Sleep Cycle Alarm Lite : 445\n",
      "Walk for a Dog : 412\n",
      "Quick Fit - 7 Minute Workout, Abs, and Yoga : 407\n",
      "Fit Girls Guide : 397\n",
      "Walking for Weight Loss: training plans, GPS, tips : 397\n",
      "Zen : 298\n",
      "Model My Diet - Women - Weight Loss Motivation : 236\n",
      "Runtastic Butt Workout & Booty Trainer Plans : 222\n",
      "Dot - A Period & Fertility Tracker : 142\n",
      "YAZIO – Calorie Counter & Nutrition Tracker : 115\n",
      "SmartFit - Wristband : 105\n",
      "Dr. Oz : 99\n",
      "Crane Connect : 94\n",
      "Morning Routine : Daily Habit Tracker : 40\n",
      "Wellbeyond Meditation for Kids : 36\n",
      "SenseSleep - Train Your Brain To Sleep Better : 22\n",
      "Snail Sleep-Dream Talk Recording : 19\n",
      "ameli, l'Assurance Maladie : 8\n",
      "VIBO RealMassager : 6\n",
      "FizzUp – Online Fitness Trainer : 5\n",
      "2Face Fitpack - Dein Trainingsprogramm mit persönlichem Ernährungsplan, Kalorienrechner und Trainingsplan : 0\n",
      "GYMONDO – Fitness Training für Zuhause : 0\n",
      "Superdrug : 0\n",
      "airweave sleep analysis : 0\n",
      "Sonia Tlev : 0\n",
      "Intuition Guidances : 0\n"
     ]
    }
   ],
   "source": [
    "for app in ios_final:\n",
    "    if app[-5] == 'Health & Fitness':\n",
    "        print(app[1], ':', app[5]) "
   ]
  },
  {
   "cell_type": "markdown",
   "id": "96136e24",
   "metadata": {},
   "source": [
    "This niche seems to show some potential. Although MyFitnessPal skew the results, there is a good balance the number of apps that have surpassed the 10,000 user reviews threshold compared to the top three apps. One thing we could do is take the structure of MyFitnessPal to track your nutrition while also being able to track workouts, recommend workouts, or create custom workout plans. This can create a great all-in-one platform to track your nutrition and strength gains.\n",
    "\n",
    "This idea seems to fit well with the fact that the App Store is dominated by for-fun apps. This suggests the market might be a bit saturated with for-fun apps, which means a practical app might have more of a chance to stand out among the huge number of apps on the App Store.\n",
    "\n",
    "Other genres that seem popular include weather, book, food and drink, or finance. The book genre seem to overlap a bit with the app idea we described above, but the other genres don't seem too interesting to us:\n",
    "\n",
    "- Weather apps — people generally don't spend too much time in-app, and the chances of making profit from in-app adds are low. Also, getting reliable live weather data may require us to connect our apps to non-free APIs.\n",
    " \n",
    " \n",
    "- Food and drink — examples here include Starbucks, Dunkin' Donuts, McDonald's, etc. So making a popular food and drink app requires actual cooking and a delivery service, which is outside the scope of our company.\n",
    " \n",
    "- Finance apps — these apps involve banking, paying bills, money transfer, etc. Building a finance app requires domain knowledge, and we don't want to hire a finance expert just to build an app.\n",
    "\n",
    "Now let's analyze the Google Play market a bit."
   ]
  },
  {
   "cell_type": "markdown",
   "id": "7e502851",
   "metadata": {},
   "source": [
    "## Most Popular APps by Genre on Google Play"
   ]
  },
  {
   "cell_type": "markdown",
   "id": "9af2e453",
   "metadata": {},
   "source": [
    "For the Google Play market, we actually have data about the number of installs, so we should be able to get a clearer picture about genre popularity. However, the install numbers don't seem precise enough — we can see that most values are open-ended (100+, 1,000+, 5,000+, etc.):"
   ]
  },
  {
   "cell_type": "code",
   "execution_count": 107,
   "id": "b8c02785",
   "metadata": {},
   "outputs": [
    {
     "name": "stdout",
     "output_type": "stream",
     "text": [
      "1,000,000+ : 15.726534296028879\n",
      "100,000+ : 11.552346570397113\n",
      "10,000,000+ : 10.548285198555957\n",
      "10,000+ : 10.198555956678701\n",
      "1,000+ : 8.393501805054152\n",
      "100+ : 6.915613718411552\n",
      "5,000,000+ : 6.825361010830325\n",
      "500,000+ : 5.561823104693141\n",
      "50,000+ : 4.7721119133574\n",
      "5,000+ : 4.512635379061372\n",
      "10+ : 3.5424187725631766\n",
      "500+ : 3.2490974729241873\n",
      "50,000,000+ : 2.3014440433213\n",
      "100,000,000+ : 2.1322202166064983\n",
      "50+ : 1.917870036101083\n",
      "5+ : 0.78971119133574\n",
      "1+ : 0.5076714801444043\n",
      "500,000,000+ : 0.2707581227436823\n",
      "1,000,000,000+ : 0.22563176895306858\n",
      "0+ : 0.04512635379061372\n",
      "0 : 0.01128158844765343\n"
     ]
    }
   ],
   "source": [
    "display_table(android_final, 5) # the Installs column"
   ]
  },
  {
   "cell_type": "markdown",
   "id": "b6a413d6",
   "metadata": {},
   "source": [
    "Right off the bat, one problem with this data is that it's not precise. For instance, we don't know whether an app with 100,000+ installs has 100,000 installs, 200,000, or 350,000. However, we don't need very precise data for our purposes — we only want to get an idea which app genres attract the most users, and we don't need perfect precision with respect to the number of users.\n",
    "\n",
    "We're going to leave the numbers as they are, which means that we'll consider that an app with 100,000+ installs has 100,000 installs, and an app with 1,000,000+ installs has 1,000,000 installs, and so on.\n",
    "\n",
    "To perform computations, however, we'll need to convert each install number to `float` — this means that we need to remove the commas and the plus characters, otherwise the conversion will fail and raise an error. We'll do this directly in the loop below, where we also compute the average number of installs for each genre (category)."
   ]
  },
  {
   "cell_type": "code",
   "execution_count": 108,
   "id": "3351a9db",
   "metadata": {},
   "outputs": [
    {
     "name": "stdout",
     "output_type": "stream",
     "text": [
      "ART_AND_DESIGN : 1986335.0877192982\n",
      "AUTO_AND_VEHICLES : 647317.8170731707\n",
      "BEAUTY : 513151.88679245283\n",
      "BOOKS_AND_REFERENCE : 8767811.894736841\n",
      "BUSINESS : 1712290.1474201474\n",
      "COMICS : 817657.2727272727\n",
      "COMMUNICATION : 38456119.167247385\n",
      "DATING : 854028.8303030303\n",
      "EDUCATION : 1833495.145631068\n",
      "ENTERTAINMENT : 11640705.88235294\n",
      "EVENTS : 253542.22222222222\n",
      "FINANCE : 1387692.475609756\n",
      "FOOD_AND_DRINK : 1924897.7363636363\n",
      "HEALTH_AND_FITNESS : 4188821.9853479853\n",
      "HOUSE_AND_HOME : 1331540.5616438356\n",
      "LIBRARIES_AND_DEMO : 638503.734939759\n",
      "LIFESTYLE : 1437816.2687861272\n",
      "GAME : 15588015.603248259\n",
      "FAMILY : 3695641.8198090694\n",
      "MEDICAL : 120550.61980830671\n",
      "SOCIAL : 23253652.127118643\n",
      "SHOPPING : 7036877.311557789\n",
      "PHOTOGRAPHY : 17840110.40229885\n",
      "SPORTS : 3638640.1428571427\n",
      "TRAVEL_AND_LOCAL : 13984077.710144928\n",
      "TOOLS : 10801391.298666667\n",
      "PERSONALIZATION : 5201482.6122448975\n",
      "PRODUCTIVITY : 16787331.344927534\n",
      "PARENTING : 542603.6206896552\n",
      "WEATHER : 5074486.197183099\n",
      "VIDEO_PLAYERS : 24727872.452830188\n",
      "NEWS_AND_MAGAZINES : 9549178.467741935\n",
      "MAPS_AND_NAVIGATION : 4056941.7741935486\n"
     ]
    }
   ],
   "source": [
    "categories_android = freq_table(android_final, 1)\n",
    "\n",
    "for category in categories_android:\n",
    "    total = 0\n",
    "    len_category = 0\n",
    "    for app in android_final:\n",
    "        category_app = app[1]\n",
    "        if category_app == category:\n",
    "            n_installs = app[5] # Installs index\n",
    "            n_installs = n_installs.replace(',', '')\n",
    "            n_installs = n_installs.replace('+', '')\n",
    "            total += float(n_installs)\n",
    "            len_category += 1\n",
    "    avg_n_installs = total / len_category\n",
    "    print(category, ':', avg_n_installs)"
   ]
  },
  {
   "cell_type": "markdown",
   "id": "09918476",
   "metadata": {},
   "source": [
    "On average, communication apps have the most installs: 38,456,119. Once again, this number is heavily skewed by a few apps that have over one billion installs (WhatsApp, Facebook Messenger, Skype, Google Chrome, Gmail, and Hangouts), and a few others with over 100 and 500 million installs:"
   ]
  },
  {
   "cell_type": "code",
   "execution_count": 109,
   "id": "03dc13cf",
   "metadata": {},
   "outputs": [
    {
     "name": "stdout",
     "output_type": "stream",
     "text": [
      "WhatsApp Messenger : 1,000,000,000+\n",
      "imo beta free calls and text : 100,000,000+\n",
      "Android Messages : 100,000,000+\n",
      "Google Duo - High Quality Video Calls : 500,000,000+\n",
      "Messenger – Text and Video Chat for Free : 1,000,000,000+\n",
      "imo free video calls and chat : 500,000,000+\n",
      "Skype - free IM & video calls : 1,000,000,000+\n",
      "Who : 100,000,000+\n",
      "GO SMS Pro - Messenger, Free Themes, Emoji : 100,000,000+\n",
      "LINE: Free Calls & Messages : 500,000,000+\n",
      "Google Chrome: Fast & Secure : 1,000,000,000+\n",
      "Firefox Browser fast & private : 100,000,000+\n",
      "UC Browser - Fast Download Private & Secure : 500,000,000+\n",
      "Gmail : 1,000,000,000+\n",
      "Hangouts : 1,000,000,000+\n",
      "Messenger Lite: Free Calls & Messages : 100,000,000+\n",
      "Kik : 100,000,000+\n",
      "KakaoTalk: Free Calls & Text : 100,000,000+\n",
      "Opera Mini - fast web browser : 100,000,000+\n",
      "Opera Browser: Fast and Secure : 100,000,000+\n",
      "Telegram : 100,000,000+\n",
      "Truecaller: Caller ID, SMS spam blocking & Dialer : 100,000,000+\n",
      "UC Browser Mini -Tiny Fast Private & Secure : 100,000,000+\n",
      "Viber Messenger : 500,000,000+\n",
      "WeChat : 100,000,000+\n",
      "Yahoo Mail – Stay Organized : 100,000,000+\n",
      "BBM - Free Calls & Messages : 100,000,000+\n"
     ]
    }
   ],
   "source": [
    "for app in android_final:\n",
    "    if app[1] == 'COMMUNICATION' and (app[5] == '1,000,000,000+'\n",
    "                                      or app[5] == '500,000,000+'\n",
    "                                      or app[5] == '100,000,000+'):\n",
    "        print(app[0], ':', app[5])\n"
   ]
  },
  {
   "cell_type": "code",
   "execution_count": 110,
   "id": "3ec4bc89",
   "metadata": {},
   "outputs": [
    {
     "data": {
      "text/plain": [
       "3603485.3884615386"
      ]
     },
     "execution_count": 110,
     "metadata": {},
     "output_type": "execute_result"
    }
   ],
   "source": [
    "under_100_m = []\n",
    "\n",
    "for app in android_final:\n",
    "    n_installs = app[5]\n",
    "    n_installs = n_installs.replace(',', '')\n",
    "    n_installs = n_installs.replace('+', '')\n",
    "    if (app[1] == 'COMMUNICATION') and (float(n_installs) < 100000000):\n",
    "        under_100_m.append(float(n_installs))\n",
    "        \n",
    "sum(under_100_m) / len(under_100_m)"
   ]
  },
  {
   "cell_type": "markdown",
   "id": "0e476bb1",
   "metadata": {},
   "source": [
    "The runner up for most installs is the video players category with 24,727,872 installs. Again, we can predict that this market is also dominated by giants like YouTube or Google Play Movies & TV. The pattern is repeated for social apps (where we have giants like Facebook, Instagram, Google+, etc.), photography apps (Google Photos and other popular photo editors), or productivity apps (Microsoft Word, Dropbox, Google Calendar, Evernote, etc.).\n",
    "\n",
    "Again, the main concern is that these app genres might seem more popular than they really are. Moreover, these niches seem to be dominated by a few giants who are hard to compete against.\n",
    "\n",
    "The game genre seems pretty popular, but previously we found out this part of the market seems a bit saturated, so we'd like to come up with a different app recommendation if possible.\n",
    "\n",
    "The health and fitness genre looks fairly popular as well, with an average number of installs of 4,188,821. It's interesting to explore this in more depth, since we found this genre has some potential to work well on the App Store, and our aim is to recommend an app genre that shows potential for being profitable on both the App Store and Google Play.\n",
    "\n",
    "Let's take a look at some of the apps from this genre and their number of installs:"
   ]
  },
  {
   "cell_type": "code",
   "execution_count": 111,
   "id": "422fd30c",
   "metadata": {},
   "outputs": [
    {
     "name": "stdout",
     "output_type": "stream",
     "text": [
      "Step Counter - Calorie Counter : 500,000+\n",
      "Lose Belly Fat in 30 Days - Flat Stomach : 5,000,000+\n",
      "Pedometer - Step Counter Free & Calorie Burner : 1,000,000+\n",
      "Six Pack in 30 Days - Abs Workout : 10,000,000+\n",
      "Lose Weight in 30 Days : 10,000,000+\n",
      "Pedometer : 10,000,000+\n",
      "LG Health : 10,000,000+\n",
      "Step Counter - Pedometer Free & Calorie Counter : 10,000,000+\n",
      "Pedometer, Step Counter & Weight Loss Tracker App : 10,000,000+\n",
      "Sportractive GPS Running Cycling Distance Tracker : 1,000,000+\n",
      "30 Day Fitness Challenge - Workout at Home : 10,000,000+\n",
      "Home Workout for Men - Bodybuilding : 1,000,000+\n",
      "Fat Burning Workout - Home Weight lose : 100,000+\n",
      "Buttocks and Abdomen : 500,000+\n",
      "Walking for Weight Loss - Walk Tracker : 100,000+\n",
      "Running & Jogging : 500,000+\n",
      "Sleep Sounds : 1,000,000+\n",
      "Fitbit : 10,000,000+\n",
      "Lose Belly Fat-Home Abs Fitness Workout : 50,000+\n",
      "Cycling - Bike Tracker : 500,000+\n",
      "Abs Training-Burn belly fat : 100,000+\n",
      "Calorie Counter - EasyFit free : 1,000,000+\n",
      "Aunjai i lert u : 500,000+\n",
      "Garmin Connect™ : 10,000,000+\n",
      "BetterMe: Weight Loss Workouts : 5,000,000+\n",
      "Bike Computer - GPS Cycling Tracker : 1,000,000+\n",
      "Six Packs for Man–Body Building with No Equipment : 100,000+\n",
      "Running Distance Tracker + : 1,000,000+\n",
      "The TK-App - everything under control : 100,000+\n",
      "Runkeeper - GPS Track Run Walk : 10,000,000+\n",
      "Walking: Pedometer diet : 1,000,000+\n",
      "Recipes for hair and face tried : 500,000+\n",
      "Abs Workout - 30 Days Fitness App for Six Pack Abs : 100,000+\n",
      "8fit Workouts & Meal Planner : 10,000,000+\n",
      "Keep Trainer - Workout Trainer & Fitness Coach : 1,000,000+\n",
      "Couch to 10K Running Trainer : 500,000+\n",
      "PumpUp — Fitness Community : 1,000,000+\n",
      "Home workouts - fat burning, abs, legs, arms,chest : 1,000,000+\n",
      "Running Weight Loss Walking Jogging Hiking FITAPP : 1,000,000+\n",
      "Strava Training: Track Running, Cycling & Swimming : 10,000,000+\n",
      "Workout Trainer: fitness coach : 10,000,000+\n",
      "Fabulous: Motivate Me! Meditate, Relax, Sleep : 5,000,000+\n",
      "StrongLifts 5x5 Workout Gym Log & Personal Trainer : 1,000,000+\n",
      "Run with Map My Run : 5,000,000+\n",
      "7 Minute Workout : 10,000,000+\n",
      "Workout Tracker & Gym Trainer - Fitness Log Book : 500,000+\n",
      "Freeletics: Personal Trainer & Fitness Workouts : 10,000,000+\n",
      "Fitbit Coach : 1,000,000+\n",
      "JEFIT Workout Tracker, Weight Lifting, Gym Log App : 5,000,000+\n",
      "Map My Ride GPS Cycling Riding : 1,000,000+\n",
      "Daily Workouts - Exercise Fitness Routine Trainer : 10,000,000+\n",
      "Google Fit - Fitness Tracking : 10,000,000+\n",
      "Weight Loss Running by Verv : 1,000,000+\n",
      "Sworkit: Workouts & Fitness Plans : 5,000,000+\n",
      "Map My Fitness Workout Trainer : 1,000,000+\n",
      "Sports Tracker Running Cycling : 5,000,000+\n",
      "Seven - 7 Minute Workout Training Challenge : 1,000,000+\n",
      "Daily Yoga - Yoga Fitness Plans : 5,000,000+\n",
      "Relax Meditation: Sleep with Sleep Sounds : 1,000,000+\n",
      "Free Meditation - Take a Break : 100,000+\n",
      "Meditate OM : 1,000,000+\n",
      "Yoga - Track Yoga : 500,000+\n",
      "My Chakra Meditation : 500,000+\n",
      "Relax with Andrew Johnson Lite : 100,000+\n",
      "Meditation Music - Relax, Yoga : 1,000,000+\n",
      "Down Dog: Great Yoga Anywhere : 500,000+\n",
      "21-Day Meditation Experience : 100,000+\n",
      "My Chakra Meditation 2 : 100,000+\n",
      "Simply Yoga - Fitness Trainer for Workouts & Poses : 1,000,000+\n",
      "Relax Melodies: Sleep Sounds : 5,000,000+\n",
      "Simple Habit Meditation : 500,000+\n",
      "Headspace: Meditation & Mindfulness : 10,000,000+\n",
      "Yoga Studio: Mind & Body : 100,000+\n",
      "Pregnancy & Baby Tracker : 1,000,000+\n",
      "My Cycles Period and Ovulation : 1,000,000+\n",
      "I’m Expecting - Pregnancy App : 1,000,000+\n",
      "The Bump Pregnancy Tracker : 1,000,000+\n",
      "My Days - Ovulation Calendar & Period Tracker ™ : 5,000,000+\n",
      "Best Ovulation Tracker Fertility Calendar App Glow : 1,000,000+\n",
      "Eve Period Tracker - Love, Sex & Relationships App : 1,000,000+\n",
      "Fertility Friend Ovulation App : 1,000,000+\n",
      "Pregnancy Tracker : 500,000+\n",
      "Period Tracker : 10,000,000+\n",
      "Spot On Period, Birth Control, & Cycle Tracker : 500,000+\n",
      "OvuView: Ovulation and Fertility : 1,000,000+\n",
      "Period Tracker - Period Calendar Ovulation Tracker : 100,000,000+\n",
      "Period Tracker Clue: Period and Ovulation Tracker : 10,000,000+\n",
      "Calorie Counter - MyFitnessPal : 50,000,000+\n",
      "WomanLog Calendar : 5,000,000+\n",
      "Geocaching® : 5,000,000+\n",
      "Map My Hike GPS Hiking : 500,000+\n",
      "ViewRanger - Hike, Ride or Walk : 1,000,000+\n",
      "Runtastic Mountain Bike GPS Tracker : 1,000,000+\n",
      "AllTrails: Hiking, Running & Mountain Bike Trails : 1,000,000+\n",
      "Water Drink Reminder : 10,000,000+\n",
      "Zombies, Run! 5k Training (Free) : 50,000+\n",
      "Tracks : 50,000+\n",
      "YAZIO Calorie Counter, Nutrition Diary & Diet Plan : 5,000,000+\n",
      "Technutri - calorie counter, diet and carb tracker : 5,000,000+\n",
      "Couch to 5K by RunDouble : 1,000,000+\n",
      "Fooducate Healthy Weight Loss & Calorie Counter : 1,000,000+\n",
      "Weight Watchers Mobile : 5,000,000+\n",
      "Walk with Map My Walk : 5,000,000+\n",
      "My Diet Coach - Weight Loss Motivation & Tracker : 10,000,000+\n",
      "Endomondo - Running & Walking : 10,000,000+\n",
      "Nike+ Run Club : 10,000,000+\n",
      "Lose It! - Calorie Counter : 10,000,000+\n",
      "Runtastic Running App & Mile Tracker : 10,000,000+\n",
      "Calorie Counter - MyNetDiary : 1,000,000+\n",
      "10 Best Foods for You : 500,000+\n",
      "MyPlate Calorie Tracker : 1,000,000+\n",
      "My Diet Diary Calorie Counter : 1,000,000+\n",
      "Calorie Counter - Macros : 100,000+\n",
      "Weight Loss Tracker - RecStyle : 1,000,000+\n",
      "Lark - 24/7 Health Coach : 100,000+\n",
      "MealLogger-Photo Food Journal : 50,000+\n",
      "Health and Nutrition Guide : 500,000+\n",
      "Calorie Counter & Diet Tracker : 1,000,000+\n",
      "Food Calorie Calculator : 100,000+\n",
      "Monitor Your Weight : 5,000,000+\n",
      "Calorie Counter by FatSecret : 10,000,000+\n",
      "Eat Fit - Diet and Health Free : 100,000+\n",
      "Self Healing : 500,000+\n",
      "Happify : 100,000+\n",
      "Binaural Beats Therapy : 1,000,000+\n",
      "Pacifica - Stress & Anxiety : 500,000+\n",
      "Relaxing Sounds : 100,000+\n",
      "White Sound Pro : 500,000+\n",
      "Insight Timer - Free Meditation App : 1,000,000+\n",
      "Self-help Anxiety Management : 500,000+\n",
      "Brain Waves - Binaural Beats : 500,000+\n",
      "Prana Breath: Calm & Meditate : 1,000,000+\n",
      "7 Cups: Anxiety & Stress Chat : 500,000+\n",
      "Calm - Meditate, Sleep, Relax : 5,000,000+\n",
      "White Noise Lite : 1,000,000+\n",
      "Stop, Breathe & Think: Meditation & Mindfulness : 1,000,000+\n",
      "Oral-B App : 1,000,000+\n",
      "f.lux (preview, root-only) : 500,000+\n",
      "HPlus : 100,000+\n",
      "H Band 2.0 : 500,000+\n",
      "H-Connect : 5,000+\n",
      "H Band : 10,000+\n",
      "J - Style Pro : 10,000+\n",
      "K Health : 50,000+\n",
      "Vi Trainer : 5,000+\n",
      "30 Day Ab Challenge : 500,000+\n",
      "Ultimate Ab & Core Workouts : 1,000,000+\n",
      "Abs Workout - Burn Belly Fat with No Equipment : 10,000,000+\n",
      "6 Pack Promise - Ultimate Abs : 1,000,000+\n",
      "Abs, Core & Back Workout Challenge : 100,000+\n",
      "AB Mobile App : 100,000+\n",
      "Daily Ab Workout - Core & Abs Fitness Exercises : 10,000,000+\n",
      "Abs workout 7 minutes : 1,000,000+\n",
      "30 Day Ab Challenge FREE : 1,000,000+\n",
      "ABS Workout - Belly workout, 30 days AB : 100,000+\n",
      "7 minute abs workout - Daily Ab Workout : 100,000+\n",
      "5 Minute Ab Workouts : 50,000+\n",
      "30 Day AB Challenge - Lumowell : 10,000+\n",
      "Ab Workouts : 1,000,000+\n",
      "Ab Workouts - Ab Generator : 1,000+\n",
      "Abs workout - 21 Day Fitness Challenge : 1,000,000+\n",
      "Ladies' Ab Workout FREE : 1,000,000+\n",
      "30-Day Ab Challenge Tracker : 10,000+\n",
      "AF Hydro : 10,000+\n",
      "AF Nutrition - Integratori : 100+\n",
      "AH Connect (Adventist Health) : 1,000+\n",
      "be'ah : 10+\n",
      "We're Working Out - Al Kavadlo : 50,000+\n",
      "AQ Dentals : 10+\n",
      "Sleep as Android Gear Addon : 100,000+\n",
      "Sleep as Android Garmin Addon : 10,000+\n",
      "Samsung Health : 500,000,000+\n",
      "Runtastic Sleep Better: Sleep Cycle & Smart Alarm : 5,000,000+\n",
      "Twilight: Blue light filter : 5,000,000+\n",
      "MediBeat for AW - Android (1) : 500+\n",
      "Q7 SmartWatch : 10,000+\n",
      "AY Oakmont : 10+\n",
      "Cures A-Z : 100,000+\n",
      "BA Accesible : 1,000+\n",
      "Fitness Dance for Zum.ba Workout Exercise : 50,000+\n",
      "BD Provider App : 5,000+\n",
      "BF Scale Health Fitness Tool : 1,000+\n",
      "Women\"s Health Tips(Breast,Face,Body,weight lose) : 1,000,000+\n",
      "Revita.bg : 10+\n",
      "Blood Glucose Tracker : 100,000+\n",
      "BH by Kinomap : 10,000+\n",
      "BH - Fitness & Nutrition : 1+\n",
      "FitConsole : 50,000+\n",
      "Run on Earth : 50,000+\n",
      "Treadmill Workouts Free (P) : 1,000+\n",
      "The Daily BJ : 500+\n",
      "Hungry Girl Diet Bk. Companion : 1,000+\n",
      "BL ONLINE PERSONAL TRAINING : 5+\n",
      "Poop Tracker - Toilet Log : 10,000+\n",
      "BM Pharmacy : 1,000+\n",
      "BM Physiotherapy Clinic : 100+\n",
      "My BP Lab : 10,000+\n",
      "BP Tracker : 1,000+\n",
      "MI-BP : 50+\n",
      "Deep Breathe BP : 1,000+\n",
      "BP Toolbox : 1,000+\n",
      "Blood pressure : 500,000+\n",
      "Bacterial Vaginosis : 100+\n",
      "Bacterial Vaginosis 🇺🇸 : 500+\n",
      "Bacteria Vaginosis : 1,000,000+\n",
      "Bacterial vaginosis Treatment - Sexual disease : 500+\n",
      "Home Remedies for Bacterial Infections : 50+\n",
      "Benefit Extras Mobile App : 1,000+\n",
      "Kick Axe Bx : 1+\n",
      "CB Martial Arts : 10+\n",
      "CB NFC Pendant : 50+\n",
      "CB Fit : 10+\n",
      "C B Patel Health Club : 100+\n",
      "CF SPOT : 100+\n",
      "CF Talenti : 100+\n",
      "Thrive CF : 100+\n",
      "CF Townsville : 100+\n",
      "CF Etowah : 100+\n",
      "Cystic Fibrosis Symptoms, Doctors & Treatments : 100+\n",
      "CF Themis : 100+\n",
      "CF Riga : 100+\n",
      "Casa CF : 500+\n",
      "CampGladiator : 50,000+\n",
      "CG Fit Scale : 1,000+\n",
      "Pharmacy CI - Pharmacies de garde Côte d'Ivoire : 100,000+\n",
      "Pharmacie de Garde CI et Prix : 100,000+\n",
      "CJ Fitness : 10,000+\n",
      "The CJ Rubric : 100+\n",
      "CK SKILLZ : 50+\n",
      "CK Life : 100+\n",
      "CK Pharmacies : 100+\n",
      "CK Active : 10+\n",
      "CL-Customer Care : 5+\n",
      "CL Strength : 50+\n",
      "The ClubHouse CR : 100+\n",
      "Evolution Marketing CR : 1,000+\n",
      "I AM C.T. : 1,000+\n",
      "Cy's Elma Pharmacy : 10+\n",
      "DG Fitness : 100+\n",
      "DG Xplained : 100+\n",
      "Stop Smoking - EasyQuit free : 500,000+\n",
      "Dr. Muscle : 10,000+\n",
      "DS Companion : 50+\n",
      "Eat Right Diet (by Dt Shreya's Family Diet Clinic) : 10+\n",
      "Dt. Jyothi Srinivas : 100+\n",
      "DT NO.I : 1,000+\n",
      "Bodyworks DW : 10+\n",
      "D.W Bien Être : 10+\n",
      "Cloud DX Connected Health : 100+\n",
      "DY Fitness : 10+\n",
      "PHARMAGUIDE (DZ) : 5,000+\n",
      "DEM DZ : 100+\n",
      "Eb & flow Yoga Studio : 10+\n",
      "EF Coach : 500+\n",
      "EF Academy : 50+\n",
      "Period Tracker, Pregnancy Calculator & Calendar 🌸 : 10,000+\n",
      "EO App. SelfCompassion to you : 100+\n",
      "Nike Training Club - Workouts & Fitness Plans : 10,000,000+\n",
      "Ideal Weight, BMI Calculator : 5,000,000+\n",
      "Fitness & Bodybuilding : 5,000,000+\n",
      "CALIOPE EU: Air Quality : 1,000+\n",
      "Home Workout - No Equipment : 10,000,000+\n",
      "EW MOTION THERAPY : 10+\n",
      "SCI-Ex : 1,000+\n",
      "X your Ex - Break Up Treatment : 5,000+\n",
      "Dream EZ : 10,000+\n",
      "FD Fitness : 50+\n",
      "L!FE Premium Training : 100+\n",
      "Santa Fe Thrive : 50+\n",
      "Burn Your Fat With Me! FG : 1,000,000+\n",
      "FH Calculator : 500+\n",
      "Restaurant Inspections - FL : 10,000+\n",
      "Florida Blue : 100,000+\n"
     ]
    }
   ],
   "source": [
    "for app in android_final:\n",
    "    if app[1] == 'HEALTH_AND_FITNESS':\n",
    "        print(app[0], ':', app[5])"
   ]
  },
  {
   "cell_type": "markdown",
   "id": "de13ac20",
   "metadata": {},
   "source": [
    "The health and fitness genre includes a variety of apps: counting steps, meditation, fitness trainers, calorie counters, running trackers, etc. It seems there's still a small number of extremely popular apps that skew the average:"
   ]
  },
  {
   "cell_type": "code",
   "execution_count": 113,
   "id": "1cc24a2c",
   "metadata": {},
   "outputs": [
    {
     "name": "stdout",
     "output_type": "stream",
     "text": [
      "Period Tracker - Period Calendar Ovulation Tracker : 100,000,000+\n",
      "Samsung Health : 500,000,000+\n"
     ]
    }
   ],
   "source": [
    "for app in android_final:\n",
    "    if app[1] == 'HEALTH_AND_FITNESS' and (app[5] == '1,000,000,000+'\n",
    "                                            or app[5] == '500,000,000+'\n",
    "                                            or app[5] == '100,000,000+'):\n",
    "        print(app[0], ':', app[5])"
   ]
  },
  {
   "cell_type": "markdown",
   "id": "18c8dfd5",
   "metadata": {},
   "source": [
    "Although these two apps skew the average, these are only two apps out of many, so this market still shows potential. Let's try to get some app ideas based on the kind of apps that are somewhere in the middle in terms of popularity (between 1,000,000 and 100,000,000 downloads):"
   ]
  },
  {
   "cell_type": "code",
   "execution_count": 114,
   "id": "d34e071c",
   "metadata": {},
   "outputs": [
    {
     "name": "stdout",
     "output_type": "stream",
     "text": [
      "Lose Belly Fat in 30 Days - Flat Stomach : 5,000,000+\n",
      "Pedometer - Step Counter Free & Calorie Burner : 1,000,000+\n",
      "Six Pack in 30 Days - Abs Workout : 10,000,000+\n",
      "Lose Weight in 30 Days : 10,000,000+\n",
      "Pedometer : 10,000,000+\n",
      "LG Health : 10,000,000+\n",
      "Step Counter - Pedometer Free & Calorie Counter : 10,000,000+\n",
      "Pedometer, Step Counter & Weight Loss Tracker App : 10,000,000+\n",
      "Sportractive GPS Running Cycling Distance Tracker : 1,000,000+\n",
      "30 Day Fitness Challenge - Workout at Home : 10,000,000+\n",
      "Home Workout for Men - Bodybuilding : 1,000,000+\n",
      "Sleep Sounds : 1,000,000+\n",
      "Fitbit : 10,000,000+\n",
      "Calorie Counter - EasyFit free : 1,000,000+\n",
      "Garmin Connect™ : 10,000,000+\n",
      "BetterMe: Weight Loss Workouts : 5,000,000+\n",
      "Bike Computer - GPS Cycling Tracker : 1,000,000+\n",
      "Running Distance Tracker + : 1,000,000+\n",
      "Runkeeper - GPS Track Run Walk : 10,000,000+\n",
      "Walking: Pedometer diet : 1,000,000+\n",
      "8fit Workouts & Meal Planner : 10,000,000+\n",
      "Keep Trainer - Workout Trainer & Fitness Coach : 1,000,000+\n",
      "PumpUp — Fitness Community : 1,000,000+\n",
      "Home workouts - fat burning, abs, legs, arms,chest : 1,000,000+\n",
      "Running Weight Loss Walking Jogging Hiking FITAPP : 1,000,000+\n",
      "Strava Training: Track Running, Cycling & Swimming : 10,000,000+\n",
      "Workout Trainer: fitness coach : 10,000,000+\n",
      "Fabulous: Motivate Me! Meditate, Relax, Sleep : 5,000,000+\n",
      "StrongLifts 5x5 Workout Gym Log & Personal Trainer : 1,000,000+\n",
      "Run with Map My Run : 5,000,000+\n",
      "7 Minute Workout : 10,000,000+\n",
      "Freeletics: Personal Trainer & Fitness Workouts : 10,000,000+\n",
      "Fitbit Coach : 1,000,000+\n",
      "JEFIT Workout Tracker, Weight Lifting, Gym Log App : 5,000,000+\n",
      "Map My Ride GPS Cycling Riding : 1,000,000+\n",
      "Daily Workouts - Exercise Fitness Routine Trainer : 10,000,000+\n",
      "Google Fit - Fitness Tracking : 10,000,000+\n",
      "Weight Loss Running by Verv : 1,000,000+\n",
      "Sworkit: Workouts & Fitness Plans : 5,000,000+\n",
      "Map My Fitness Workout Trainer : 1,000,000+\n",
      "Sports Tracker Running Cycling : 5,000,000+\n",
      "Seven - 7 Minute Workout Training Challenge : 1,000,000+\n",
      "Daily Yoga - Yoga Fitness Plans : 5,000,000+\n",
      "Relax Meditation: Sleep with Sleep Sounds : 1,000,000+\n",
      "Meditate OM : 1,000,000+\n",
      "Meditation Music - Relax, Yoga : 1,000,000+\n",
      "Simply Yoga - Fitness Trainer for Workouts & Poses : 1,000,000+\n",
      "Relax Melodies: Sleep Sounds : 5,000,000+\n",
      "Headspace: Meditation & Mindfulness : 10,000,000+\n",
      "Pregnancy & Baby Tracker : 1,000,000+\n",
      "My Cycles Period and Ovulation : 1,000,000+\n",
      "I’m Expecting - Pregnancy App : 1,000,000+\n",
      "The Bump Pregnancy Tracker : 1,000,000+\n",
      "My Days - Ovulation Calendar & Period Tracker ™ : 5,000,000+\n",
      "Best Ovulation Tracker Fertility Calendar App Glow : 1,000,000+\n",
      "Eve Period Tracker - Love, Sex & Relationships App : 1,000,000+\n",
      "Fertility Friend Ovulation App : 1,000,000+\n",
      "Period Tracker : 10,000,000+\n",
      "OvuView: Ovulation and Fertility : 1,000,000+\n",
      "Period Tracker Clue: Period and Ovulation Tracker : 10,000,000+\n",
      "Calorie Counter - MyFitnessPal : 50,000,000+\n",
      "WomanLog Calendar : 5,000,000+\n",
      "Geocaching® : 5,000,000+\n",
      "ViewRanger - Hike, Ride or Walk : 1,000,000+\n",
      "Runtastic Mountain Bike GPS Tracker : 1,000,000+\n",
      "AllTrails: Hiking, Running & Mountain Bike Trails : 1,000,000+\n",
      "Water Drink Reminder : 10,000,000+\n",
      "YAZIO Calorie Counter, Nutrition Diary & Diet Plan : 5,000,000+\n",
      "Technutri - calorie counter, diet and carb tracker : 5,000,000+\n",
      "Couch to 5K by RunDouble : 1,000,000+\n",
      "Fooducate Healthy Weight Loss & Calorie Counter : 1,000,000+\n",
      "Weight Watchers Mobile : 5,000,000+\n",
      "Walk with Map My Walk : 5,000,000+\n",
      "My Diet Coach - Weight Loss Motivation & Tracker : 10,000,000+\n",
      "Endomondo - Running & Walking : 10,000,000+\n",
      "Nike+ Run Club : 10,000,000+\n",
      "Lose It! - Calorie Counter : 10,000,000+\n",
      "Runtastic Running App & Mile Tracker : 10,000,000+\n",
      "Calorie Counter - MyNetDiary : 1,000,000+\n",
      "MyPlate Calorie Tracker : 1,000,000+\n",
      "My Diet Diary Calorie Counter : 1,000,000+\n",
      "Weight Loss Tracker - RecStyle : 1,000,000+\n",
      "Calorie Counter & Diet Tracker : 1,000,000+\n",
      "Monitor Your Weight : 5,000,000+\n",
      "Calorie Counter by FatSecret : 10,000,000+\n",
      "Binaural Beats Therapy : 1,000,000+\n",
      "Insight Timer - Free Meditation App : 1,000,000+\n",
      "Prana Breath: Calm & Meditate : 1,000,000+\n",
      "Calm - Meditate, Sleep, Relax : 5,000,000+\n",
      "White Noise Lite : 1,000,000+\n",
      "Stop, Breathe & Think: Meditation & Mindfulness : 1,000,000+\n",
      "Oral-B App : 1,000,000+\n",
      "Ultimate Ab & Core Workouts : 1,000,000+\n",
      "Abs Workout - Burn Belly Fat with No Equipment : 10,000,000+\n",
      "6 Pack Promise - Ultimate Abs : 1,000,000+\n",
      "Daily Ab Workout - Core & Abs Fitness Exercises : 10,000,000+\n",
      "Abs workout 7 minutes : 1,000,000+\n",
      "30 Day Ab Challenge FREE : 1,000,000+\n",
      "Ab Workouts : 1,000,000+\n",
      "Abs workout - 21 Day Fitness Challenge : 1,000,000+\n",
      "Ladies' Ab Workout FREE : 1,000,000+\n",
      "Runtastic Sleep Better: Sleep Cycle & Smart Alarm : 5,000,000+\n",
      "Twilight: Blue light filter : 5,000,000+\n",
      "Women\"s Health Tips(Breast,Face,Body,weight lose) : 1,000,000+\n",
      "Bacteria Vaginosis : 1,000,000+\n",
      "Nike Training Club - Workouts & Fitness Plans : 10,000,000+\n",
      "Ideal Weight, BMI Calculator : 5,000,000+\n",
      "Fitness & Bodybuilding : 5,000,000+\n",
      "Home Workout - No Equipment : 10,000,000+\n",
      "Burn Your Fat With Me! FG : 1,000,000+\n"
     ]
    }
   ],
   "source": [
    "for app in android_final:\n",
    "    if app[1] == 'HEALTH_AND_FITNESS' and (app[5] == '1,000,000+'\n",
    "                                            or app[5] == '5,000,000+'\n",
    "                                            or app[5] == '10,000,000+'\n",
    "                                            or app[5] == '50,000,000+'):\n",
    "        print(app[0], ':', app[5])"
   ]
  },
  {
   "cell_type": "markdown",
   "id": "ce854867",
   "metadata": {},
   "source": [
    "This niche seems to be dominated by software for tracking, monitoring, and collections of workouts, so it's probably not a good idea to build similar apps since there'll be some significant competition.\n",
    "\n",
    "We also notice there are quite a few meditation/mindfulness apps that can be profitable. If we can take in physical well-being and mesh that into a 'healthy body - healthy mind' motivated app, this could be profitable for both the Google Play and App Store markets. It looks like the market is full of individual apps for specific needs, so we might need to add features that provide a more all-in-one experience while still being particular with our audience."
   ]
  },
  {
   "cell_type": "markdown",
   "id": "a980768f",
   "metadata": {},
   "source": [
    "## Conclusions"
   ]
  },
  {
   "cell_type": "markdown",
   "id": "70833b40",
   "metadata": {},
   "source": [
    "In this project, we analyzed data about the App Store and Google Play mobile apps with the goal of recommending an app profile that can be profitable for both markets.\n",
    "\n",
    "We concluded that taking a mindfulness app and meshing it into a fitness app could be profitable for both the Google Play and the App Store markets. The markets are already full of fitness apps in the App Store, but lacks a range of mindfullness apps. The Google Play Store is full of both so we can headline a mindfulness app with the addition of physical fitness like providing workouts (maybe yoga) and pedometers."
   ]
  }
 ],
 "metadata": {
  "kernelspec": {
   "display_name": "Python 3 (ipykernel)",
   "language": "python",
   "name": "python3"
  },
  "language_info": {
   "codemirror_mode": {
    "name": "ipython",
    "version": 3
   },
   "file_extension": ".py",
   "mimetype": "text/x-python",
   "name": "python",
   "nbconvert_exporter": "python",
   "pygments_lexer": "ipython3",
   "version": "3.11.5"
  }
 },
 "nbformat": 4,
 "nbformat_minor": 5
}
